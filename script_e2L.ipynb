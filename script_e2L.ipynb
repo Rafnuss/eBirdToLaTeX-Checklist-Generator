{
  "nbformat": 4,
  "nbformat_minor": 0,
  "metadata": {
    "colab": {
      "name": "script_e2L.ipynb",
      "provenance": [],
      "mount_file_id": "1c7jY8IfFKWah07Q22xc32ubipCZLnVPE",
      "authorship_tag": "ABX9TyMdg4F8Op24CjSfo7TXg5Hi",
      "include_colab_link": true
    },
    "kernelspec": {
      "name": "python3",
      "display_name": "Python 3"
    },
    "language_info": {
      "name": "python"
    }
  },
  "cells": [
    {
      "cell_type": "markdown",
      "metadata": {
        "id": "view-in-github",
        "colab_type": "text"
      },
      "source": [
        "<a href=\"https://colab.research.google.com/github/Zoziologie/ebird2latex/blob/master/script_e2L.ipynb\" target=\"_parent\"><img src=\"https://colab.research.google.com/assets/colab-badge.svg\" alt=\"Open In Colab\"/></a>"
      ]
    },
    {
      "cell_type": "markdown",
      "source": [
        "# Example of use of eBird2LaTeX python module\n",
        "In this example, we will see how to use the `e2L` package and produce a checklist pdf. This script is a good place to start learning about the package."
      ],
      "metadata": {
        "id": "IYXr7RGstX86"
      }
    },
    {
      "cell_type": "markdown",
      "source": [
        "First, let's import the dependancies as well as the `e2L` module [from the github repository](https://github.com/Zoziologie/ebird2latex)"
      ],
      "metadata": {
        "id": "kn3O5ATUmia-"
      }
    },
    {
      "cell_type": "code",
      "source": [
        "import os\n",
        "import json\n",
        "!wget --no-cache --backups=1 \"https://raw.githubusercontent.com/Zoziologie/ebird2latex/master/e2L.py\"\n",
        "import e2L"
      ],
      "metadata": {
        "id": "tzeseVgqmbpC"
      },
      "execution_count": 1,
      "outputs": []
    },
    {
      "cell_type": "markdown",
      "source": [
        "Create project name"
      ],
      "metadata": {
        "id": "qwHW6BQpmrpw"
      }
    },
    {
      "cell_type": "code",
      "source": [
        "projet_name = \"Puerto Rico\"\n",
        "filename = projet_name.replace(' ','_').replace(\"'\",'').replace('.','')"
      ],
      "metadata": {
        "id": "2DtKSTE1mhvk"
      },
      "execution_count": null,
      "outputs": []
    },
    {
      "cell_type": "markdown",
      "source": [
        "1. Create the Bird List loading data from eBird"
      ],
      "metadata": {
        "id": "5dsG9rW0m9pG"
      }
    },
    {
      "cell_type": "code",
      "source": [
        "code_loc = 'SE' # See possible country code here : https://confluence.cornell.edu/display/CLOISAPI/eBird-1.1-HotSpotsByRegion + region code for each region ? where ?\n",
        "lang = ['en_UK','FR'] # a single language, or list of several language en,en_US,de,en_AE,en_AU,en_IN,en_NZ,en_UK,en_ZA,es,es_AR,es_CL,es_CU, es_DO,es_ES,es_MX,es_PA,es_PR,fi,fr,fr_HT,ht_HT,in,is,pt_BR,pt_PT,tr,zh http://help.ebird.org/customer/portal/articles/1596582-common-name-translations-in-ebird\n",
        "cat = ['species'] # domestic,form,hybrid,intergrade,issf,slash,species,spuh\n",
        "byear = 1900\n",
        "eyear = 2015\n",
        "bmonth = 9\n",
        "emonth = 10\n",
        "info, bird_list = e2L.bird_creator(code_loc, lang, cat, byear, eyear, bmonth, emonth)\n",
        "format='a4paper,margin=.3in'\n",
        "family = 'true'\n"
      ],
      "metadata": {
        "colab": {
          "base_uri": "https://localhost:8080/",
          "height": 416
        },
        "id": "6OLHAcdwm7SF",
        "outputId": "e2e16351-3329-4bdf-d1c0-680e307ddba8"
      },
      "execution_count": null,
      "outputs": [
        {
          "output_type": "stream",
          "name": "stdout",
          "text": [
            "barchar url: \n",
            "http://ebird.org/barchartData?r=SE&bmo=9&emo=10&byr=1900&eyr=2015&fmt=tsv\n"
          ]
        },
        {
          "output_type": "error",
          "ename": "ValueError",
          "evalue": "ignored",
          "traceback": [
            "\u001b[0;31m---------------------------------------------------------------------------\u001b[0m",
            "\u001b[0;31mValueError\u001b[0m                                Traceback (most recent call last)",
            "\u001b[0;32m<ipython-input-15-707b6c2c8d48>\u001b[0m in \u001b[0;36m<module>\u001b[0;34m()\u001b[0m\n\u001b[1;32m      6\u001b[0m \u001b[0mbmonth\u001b[0m \u001b[0;34m=\u001b[0m \u001b[0;36m9\u001b[0m\u001b[0;34m\u001b[0m\u001b[0;34m\u001b[0m\u001b[0m\n\u001b[1;32m      7\u001b[0m \u001b[0memonth\u001b[0m \u001b[0;34m=\u001b[0m \u001b[0;36m10\u001b[0m\u001b[0;34m\u001b[0m\u001b[0;34m\u001b[0m\u001b[0m\n\u001b[0;32m----> 8\u001b[0;31m \u001b[0minfo\u001b[0m\u001b[0;34m,\u001b[0m \u001b[0mbird_list\u001b[0m \u001b[0;34m=\u001b[0m \u001b[0me2L\u001b[0m\u001b[0;34m.\u001b[0m\u001b[0mbird_creator\u001b[0m\u001b[0;34m(\u001b[0m\u001b[0mcode_loc\u001b[0m\u001b[0;34m,\u001b[0m \u001b[0mlang\u001b[0m\u001b[0;34m,\u001b[0m \u001b[0mcat\u001b[0m\u001b[0;34m,\u001b[0m \u001b[0mbyear\u001b[0m\u001b[0;34m,\u001b[0m \u001b[0meyear\u001b[0m\u001b[0;34m,\u001b[0m \u001b[0mbmonth\u001b[0m\u001b[0;34m,\u001b[0m \u001b[0memonth\u001b[0m\u001b[0;34m)\u001b[0m\u001b[0;34m\u001b[0m\u001b[0;34m\u001b[0m\u001b[0m\n\u001b[0m\u001b[1;32m      9\u001b[0m \u001b[0mformat\u001b[0m\u001b[0;34m=\u001b[0m\u001b[0;34m'a4paper,margin=.3in'\u001b[0m\u001b[0;34m\u001b[0m\u001b[0;34m\u001b[0m\u001b[0m\n\u001b[1;32m     10\u001b[0m \u001b[0mfamily\u001b[0m \u001b[0;34m=\u001b[0m \u001b[0;34m'true'\u001b[0m\u001b[0;34m\u001b[0m\u001b[0;34m\u001b[0m\u001b[0m\n",
            "\u001b[0;32m/usr/local/lib/python3.7/dist-packages/e2L.py\u001b[0m in \u001b[0;36mbird_creator\u001b[0;34m(code_loc, lang, cat, byear, eyear, bmonth, emonth)\u001b[0m\n\u001b[1;32m     75\u001b[0m         \u001b[0;32massert\u001b[0m \u001b[0mbmonth\u001b[0m \u001b[0;34m>\u001b[0m \u001b[0;36m0\u001b[0m \u001b[0;32mand\u001b[0m \u001b[0mbmonth\u001b[0m \u001b[0;34m<\u001b[0m \u001b[0;36m13\u001b[0m \u001b[0;32mand\u001b[0m \u001b[0memonth\u001b[0m\u001b[0;34m>\u001b[0m\u001b[0;36m0\u001b[0m \u001b[0;32mand\u001b[0m \u001b[0memonth\u001b[0m \u001b[0;34m<\u001b[0m \u001b[0;36m13\u001b[0m\u001b[0;34m,\u001b[0m \u001b[0;34m'month need to be comprise between 1 and 12'\u001b[0m\u001b[0;34m\u001b[0m\u001b[0;34m\u001b[0m\u001b[0m\n\u001b[1;32m     76\u001b[0m \u001b[0;34m\u001b[0m\u001b[0m\n\u001b[0;32m---> 77\u001b[0;31m         \u001b[0mbc_bird_list\u001b[0m\u001b[0;34m,\u001b[0m \u001b[0minfo\u001b[0m \u001b[0;34m=\u001b[0m \u001b[0mload_barchart\u001b[0m\u001b[0;34m(\u001b[0m\u001b[0mcode_loc\u001b[0m\u001b[0;34m,\u001b[0m \u001b[0mbyear\u001b[0m\u001b[0;34m,\u001b[0m \u001b[0meyear\u001b[0m\u001b[0;34m,\u001b[0m \u001b[0mbmonth\u001b[0m\u001b[0;34m,\u001b[0m \u001b[0memonth\u001b[0m\u001b[0;34m)\u001b[0m\u001b[0;34m\u001b[0m\u001b[0;34m\u001b[0m\u001b[0m\n\u001b[0m\u001b[1;32m     78\u001b[0m         \u001b[0mtaxa_bird_list\u001b[0m \u001b[0;34m=\u001b[0m \u001b[0mload_taxa\u001b[0m\u001b[0;34m(\u001b[0m\u001b[0mlang\u001b[0m\u001b[0;34m,\u001b[0m \u001b[0mcat\u001b[0m\u001b[0;34m)\u001b[0m\u001b[0;34m\u001b[0m\u001b[0;34m\u001b[0m\u001b[0m\n\u001b[1;32m     79\u001b[0m \u001b[0;34m\u001b[0m\u001b[0m\n",
            "\u001b[0;32m/usr/local/lib/python3.7/dist-packages/e2L.py\u001b[0m in \u001b[0;36mload_barchart\u001b[0;34m(code_loc, byear, eyear, bmonth, emonth)\u001b[0m\n\u001b[1;32m    140\u001b[0m                         \u001b[0;31m#info['samples_size']['year'] = info['samples_size']['year']*48;\u001b[0m\u001b[0;34m\u001b[0m\u001b[0;34m\u001b[0m\u001b[0;34m\u001b[0m\u001b[0m\n\u001b[1;32m    141\u001b[0m                 \u001b[0;32melse\u001b[0m\u001b[0;34m:\u001b[0m\u001b[0;34m\u001b[0m\u001b[0;34m\u001b[0m\u001b[0m\n\u001b[0;32m--> 142\u001b[0;31m                         \u001b[0mcomName\u001b[0m\u001b[0;34m,\u001b[0m \u001b[0mline\u001b[0m \u001b[0;34m=\u001b[0m \u001b[0mline\u001b[0m\u001b[0;34m.\u001b[0m\u001b[0msplit\u001b[0m\u001b[0;34m(\u001b[0m\u001b[0;34m'\\t'\u001b[0m\u001b[0;34m,\u001b[0m\u001b[0;36m1\u001b[0m\u001b[0;34m)\u001b[0m\u001b[0;34m\u001b[0m\u001b[0;34m\u001b[0m\u001b[0m\n\u001b[0m\u001b[1;32m    143\u001b[0m                         \u001b[0;31m#name_la,line = line.split('\\t',1)\u001b[0m\u001b[0;34m\u001b[0m\u001b[0;34m\u001b[0m\u001b[0;34m\u001b[0m\u001b[0m\n\u001b[1;32m    144\u001b[0m                         \u001b[0mfreq\u001b[0m \u001b[0;34m=\u001b[0m \u001b[0;34m[\u001b[0m\u001b[0mfloat\u001b[0m\u001b[0;34m(\u001b[0m\u001b[0mi\u001b[0m\u001b[0;34m)\u001b[0m \u001b[0;32mfor\u001b[0m \u001b[0mi\u001b[0m \u001b[0;32min\u001b[0m \u001b[0mline\u001b[0m\u001b[0;34m.\u001b[0m\u001b[0msplit\u001b[0m\u001b[0;34m(\u001b[0m\u001b[0;34m)\u001b[0m\u001b[0;34m]\u001b[0m\u001b[0;34m\u001b[0m\u001b[0;34m\u001b[0m\u001b[0m\n",
            "\u001b[0;31mValueError\u001b[0m: not enough values to unpack (expected 2, got 1)"
          ]
        }
      ]
    },
    {
      "cell_type": "code",
      "source": [
        ""
      ],
      "metadata": {
        "id": "EAisD07pndDc"
      },
      "execution_count": null,
      "outputs": []
    }
  ]
}