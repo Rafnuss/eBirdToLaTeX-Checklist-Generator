{
  "nbformat": 4,
  "nbformat_minor": 0,
  "metadata": {
    "colab": {
      "name": "script_e2L.ipynb",
      "provenance": [],
      "collapsed_sections": [],
      "mount_file_id": "1c7jY8IfFKWah07Q22xc32ubipCZLnVPE",
      "authorship_tag": "ABX9TyMgoGKAJ3lKIte9OkrJ2Clo",
      "include_colab_link": true
    },
    "kernelspec": {
      "name": "python3",
      "display_name": "Python 3"
    },
    "language_info": {
      "name": "python"
    }
  },
  "cells": [
    {
      "cell_type": "markdown",
      "metadata": {
        "id": "view-in-github",
        "colab_type": "text"
      },
      "source": [
        "<a href=\"https://colab.research.google.com/github/Zoziologie/ebird2latex/blob/master/script_e2L.ipynb\" target=\"_parent\"><img src=\"https://colab.research.google.com/assets/colab-badge.svg\" alt=\"Open In Colab\"/></a>"
      ]
    },
    {
      "cell_type": "markdown",
      "source": [
        "# Example of use of eBird2LaTeX python module\n",
        "In this example, we will see how to use the `e2L` package and produce a checklist pdf. This script is a good place to start learning about the package."
      ],
      "metadata": {
        "id": "IYXr7RGstX86"
      }
    },
    {
      "cell_type": "markdown",
      "source": [
        "## 1. Setup\n",
        "First, let's import the dependancies as well as the `e2L` module [from the github repository](https://github.com/Zoziologie/ebird2latex)"
      ],
      "metadata": {
        "id": "kn3O5ATUmia-"
      }
    },
    {
      "cell_type": "code",
      "source": [
        "import os\n",
        "import json\n",
        "!wget --no-cache --backups=1 \"https://raw.githubusercontent.com/Zoziologie/ebird2latex/master/e2L.py\"\n",
        "import e2L\n",
        "import cssselect # not sure why this is a problem on colab... \n",
        "# Download the tex template\n",
        "!mkdir assets/\n",
        "!wget --no-cache --backups=1 \"https://raw.githubusercontent.com/Zoziologie/ebird2latex/master/assets/templateLaTeX.tex\" -P assets/ "
      ],
      "metadata": {
        "id": "tzeseVgqmbpC",
        "colab": {
          "base_uri": "https://localhost:8080/"
        },
        "outputId": "9f3b410c-d5da-4dbf-caf8-4e8312671645"
      },
      "execution_count": 1,
      "outputs": [
        {
          "output_type": "stream",
          "name": "stdout",
          "text": [
            "--2022-01-01 14:42:00--  https://raw.githubusercontent.com/Zoziologie/ebird2latex/master/e2L.py\n",
            "Resolving raw.githubusercontent.com (raw.githubusercontent.com)... 185.199.108.133, 185.199.110.133, 185.199.109.133, ...\n",
            "Connecting to raw.githubusercontent.com (raw.githubusercontent.com)|185.199.108.133|:443... connected.\n",
            "HTTP request sent, awaiting response... 200 OK\n",
            "Length: 25081 (24K) [text/plain]\n",
            "Failed to rename e2L.py to e2L.py.1: (2) No such file or directory\n",
            "Saving to: ‘e2L.py’\n",
            "\n",
            "e2L.py              100%[===================>]  24.49K  --.-KB/s    in 0.001s  \n",
            "\n",
            "2022-01-01 14:42:00 (16.1 MB/s) - ‘e2L.py’ saved [25081/25081]\n",
            "\n",
            "--2022-01-01 14:42:00--  https://raw.githubusercontent.com/Zoziologie/ebird2latex/master/assets/templateLaTeX.tex\n",
            "Resolving raw.githubusercontent.com (raw.githubusercontent.com)... 185.199.109.133, 185.199.108.133, 185.199.110.133, ...\n",
            "Connecting to raw.githubusercontent.com (raw.githubusercontent.com)|185.199.109.133|:443... connected.\n",
            "HTTP request sent, awaiting response... 200 OK\n",
            "Length: 2227 (2.2K) [text/plain]\n",
            "Failed to rename assets/templateLaTeX.tex to assets/templateLaTeX.tex.1: (2) No such file or directory\n",
            "Saving to: ‘assets/templateLaTeX.tex’\n",
            "\n",
            "templateLaTeX.tex   100%[===================>]   2.17K  --.-KB/s    in 0s      \n",
            "\n",
            "2022-01-01 14:42:01 (32.8 MB/s) - ‘assets/templateLaTeX.tex’ saved [2227/2227]\n",
            "\n"
          ]
        }
      ]
    },
    {
      "cell_type": "markdown",
      "source": [
        "Define your project name"
      ],
      "metadata": {
        "id": "qwHW6BQpmrpw"
      }
    },
    {
      "cell_type": "code",
      "source": [
        "projet_name = \"Puerto Rico\"\n",
        "filename = projet_name.replace(' ','_').replace(\"'\",'').replace('.','')"
      ],
      "metadata": {
        "id": "2DtKSTE1mhvk"
      },
      "execution_count": 2,
      "outputs": []
    },
    {
      "cell_type": "markdown",
      "source": [
        "## 2. Authentification\n",
        "To be able to download barchat data, you will need to use your eBird login. Mine in stored in a private file on google drive. [`e2L.auth`](https://github.com/Zoziologie/ebird2latex/blob/caabd2c2a06c9f882d80f637011f26835b792099/e2L.py#L63) starts a [`requests`](https://docs.python-requests.org/en/latest/) session with your login and password and returns it to you. "
      ],
      "metadata": {
        "id": "UXOV60gfvSrB"
      }
    },
    {
      "cell_type": "code",
      "source": [
        "with open('/content/drive/MyDrive/auth.json') as f:\n",
        "  auth = json.load(f)\n",
        "session = e2L.auth(auth['username'], auth['password'])"
      ],
      "metadata": {
        "colab": {
          "base_uri": "https://localhost:8080/"
        },
        "id": "a7kCkz5NvTNH",
        "outputId": "7fbeef68-9632-4ce2-93e2-b07a3b3d2724"
      },
      "execution_count": 3,
      "outputs": [
        {
          "output_type": "stream",
          "name": "stdout",
          "text": [
            "request sessionID from login...\n",
            "...login succesfull\n"
          ]
        }
      ]
    },
    {
      "cell_type": "markdown",
      "source": [
        "## 2. Create the bird list\n",
        "\n",
        "The checklist can be generated for any location with a valid locID code. This can be country, subregion1, subregion2 or specific hotspot. Check out [the old API for a complete list of regions and hotspot](https://confluence.cornell.edu/display/CLOISAPI/eBird-1.1-HotSpotsByRegion) or [the more brief but new API](https://documenter.getpostman.com/view/664302/S1ENwy59#f4f59f90-854e-4ba6-8207-323a8cf0bfe0).\n",
        "\n",
        "[`e2L.bird_creator`](https://github.com/Zoziologie/ebird2latex/blob/caabd2c2a06c9f882d80f637011f26835b792099/e2L.py#L85) do the following two steps:\n",
        "- First load the barchart data ([`load_barchart`](https://github.com/Zoziologie/ebird2latex/blob/caabd2c2a06c9f882d80f637011f26835b792099/e2L.py#L130))  from eBird using: `http://ebird.org/barchartData?r={code_loc}&bmo={bmonth}&emo={emonth}&byr={byear}&eyr={eyear}`. This includes the list of bird recorded at this location with its occurance per week.\n",
        "- Then load the taxonomy information ([`load_taxa`](https://github.com/Zoziologie/ebird2latex/blob/caabd2c2a06c9f882d80f637011f26835b792099/e2L.py#L173)) from the [eBird API](https://documenter.getpostman.com/view/664302/S1ENwy59#952a4310-536d-4ad1-8f3e-77cfb624d1bc). You can choose [any available languages](https://support.ebird.org/en/support/solutions/articles/48000804865-bird-names-in-ebird) and [species category ](https://ebird.org/science/use-ebird-data/the-ebird-taxonomy)."
      ],
      "metadata": {
        "id": "5dsG9rW0m9pG"
      }
    },
    {
      "cell_type": "code",
      "source": [
        "code_loc = 'PR'\n",
        "lang = ['EN'] \n",
        "cat = ['species'] # domestic,form,hybrid,intergrade,issf,slash,species,spuh\n",
        "byear = 1900\n",
        "eyear = 2050\n",
        "bmonth = 1\n",
        "emonth = 12\n",
        "info, bird_list = e2L.bird_creator(session, code_loc, lang, cat, byear, eyear, bmonth, emonth)"
      ],
      "metadata": {
        "colab": {
          "base_uri": "https://localhost:8080/"
        },
        "id": "6OLHAcdwm7SF",
        "outputId": "41c26a9a-c565-49f3-eab0-876aa2e0bda5"
      },
      "execution_count": 4,
      "outputs": [
        {
          "output_type": "stream",
          "name": "stdout",
          "text": [
            "Load barchart data from http://ebird.org/barchartData?r=PR&bmo=1&emo=12&byr=1900&eyr=2050&fmt=tsv\n",
            "Load taxonomy for EN\n"
          ]
        }
      ]
    },
    {
      "cell_type": "markdown",
      "source": [
        "## 3. Add Status\n",
        "**New.** You can now add a `status` to each species. For the moment, `status` can \n",
        "- an eBird target for a particular time (`year` or `life`) and place(e.g. `world`, `code_loc` or any other region). [To compute this](https://github.com/Zoziologie/ebird2latex/blob/7052c2db9781dbcfb3ef83881659d539495bf2d1/e2L.py#L210), we check that the species is absent from your list for that region/time (`https://ebird.org/lifelist/{target_loc}/?time={target_time}`).\n",
        "- `Endemic` or `introduced` according to [Avibase](https://avibase.bsc-eoc.org/). [To compute this](https://github.com/Zoziologie/ebird2latex/blob/7052c2db9781dbcfb3ef83881659d539495bf2d1/e2L.py#L240), we check the value on the avibase checklist for a particular region (`https://avibase.bsc-eoc.org/checklist.jsp?region={code_loc}&list=clements`). Note that this `code_loc` might be difference than eBird.\n",
        "\n",
        "The first input of the status functions is the label attributed to the species if the condition is true. This label will be needed later when displaying it. Thus, they need to be unique. "
      ],
      "metadata": {
        "id": "yXW6U20e2oY2"
      }
    },
    {
      "cell_type": "code",
      "source": [
        "target_loc = \"world\" \n",
        "target_time = \"life\"\n",
        "bird_list = e2L.statusInList('target-world',bird_list,session,target_loc,target_time)\n",
        "target_loc = code_loc\n",
        "bird_list = e2L.statusInList('target-PR',bird_list,session,target_loc,target_time)\n",
        "bird_list = e2L.statusAvibase(['endemic-PR','introduce-PR'],bird_list, code_loc)"
      ],
      "metadata": {
        "id": "EAisD07pndDc",
        "colab": {
          "base_uri": "https://localhost:8080/"
        },
        "outputId": "c4355856-caec-4aea-9c7d-19d1797180f3"
      },
      "execution_count": 9,
      "outputs": [
        {
          "output_type": "stream",
          "name": "stdout",
          "text": [
            "Load target data from https://ebird.org/lifelist/world/?time=life\n",
            "Load target data from https://ebird.org/lifelist/PR/?time=life\n",
            "Load endemic data from https://avibase.bsc-eoc.org/checklist.jsp?region=PR&list=clements\n"
          ]
        }
      ]
    },
    {
      "cell_type": "markdown",
      "source": [
        "## 4. Define column\n",
        "In this next step, we can define what to display in the checklist. This is performed by creating a list of `TableInput(type,option1,option1,option2,option3)` of the following possible `type`: \n",
        "- `lang`: display the name of the species in a particular language. `option1` can only be one of the language code requested when building the bird list. (latin is always possible (`LA`)). See below for `option2`.\n",
        "- `freq`: disply occurence frequence. `option1` can be 'year', 'season', 'month' or 'week'. `option2` is the index of `option1` to display (e.g, `month,0` is january, `season,1` is summer). `year` does not have an index.\n",
        "- `checkbox` display a checkbox. `option1` is the number of checkbox to display (default: 3).\n",
        "- `line` display empty lines (\"___\") . `option1` is the number of lines (default: 3) and `option2` their length with unit (default: '3ex').\n",
        "- `note` display note line (\"...\")length (eg. : 4cm).\n",
        "\n",
        "**New**. Using `status`, we can now highlight specific species in the checklist. This is done by addinng a  `statusTable` to `option2` to the type `lang`. `statusTable` is a list of lists of status criteria and style corresponding. The status criteria to apply should be the same value given when creating the status (first input of the status function). The style are currently:\n",
        "- `bold`, `italic`, `underline`\n",
        "- coloring the font with `color-{color_value}`, see [`xcolor`](https://steeven9.github.io/USI-LaTeX/html/packages_hyperref_babel_xcolor3.html) for the list of possible color\n",
        "- adding a symbol after the name. with `sym-{symbole_value}`. Any single character symbol should work.\n",
        "\n",
        "Note that the order of the column in `col`define the order in the checklist"
      ],
      "metadata": {
        "id": "Qe6rTIQq5Ech"
      }
    },
    {
      "cell_type": "code",
      "source": [
        "col = []\n",
        "col.append(e2L.TableInput(info,'checkbox',1))\n",
        "# col.append(e2L.TableInput(info,'line',1,'8ex'))\n",
        "# col.append(e2L.TableInput(info,'note','3cm'))\n",
        "statusTable = [['endemic-PR','bold'], ['introduce-PR','color-violet'],['target-world','sym-*']]\n",
        "col.append(e2L.TableInput(info,'lang','EN',statusTable))\n",
        "col.append(e2L.TableInput(info,'lang','LA'))\n",
        "col.append(e2L.TableInput(info,'freq','year'))\n",
        "col.append(e2L.TableInput(info,'freq','season',0))\n",
        "col.append(e2L.TableInput(info,'freq','month',0))"
      ],
      "metadata": {
        "id": "bEgKcP8v5E0M"
      },
      "execution_count": 10,
      "outputs": []
    },
    {
      "cell_type": "markdown",
      "source": [
        "## 5. Create the tex file\n",
        "When creating the $\\LaTeX$ document, you can add more formating option to the document (`format`) and change the spacing between row (`spacing`).\n",
        "\n",
        "You can also choose to display the family name or not `family`.\n",
        "\n",
        "You can filter the specie to show in the table as you want in `condition_tableau`. The first value is the text displayed and the second is the actual code evaluated for each `bird` from the bird list. \n",
        "Similarly, you can also display a short rare species list at the end of your checklist with `condition_rare`. To not display this rare table, simply set an impossible condition"
      ],
      "metadata": {
        "id": "ua1ueVSX-bkm"
      }
    },
    {
      "cell_type": "code",
      "source": [
        "format='letterpaper,margin=.3in' #'a4paper,margin=15mm,twocolumn'\n",
        "spacing = '.95'\n",
        "family = False\n",
        "condition_tableau = ['Main table display only non-hybrid birds with occurence >0.1\\\\%.',\" ( bird['freq']['year'] >= 0.001)\"]\n",
        "condition_rare = ['\\\\footnotesize{>.1\\\\%}',\" (bird['freq']['year'] < .01) and (bird['freq']['year'] > 0.001)\"]\n",
        "# condition_rare = ['\\\\footnotesize{>.1\\\\%}',\" (bird['freq']['year'] < .00) and (bird['freq']['year'] > 0.001)\"]\n",
        "\n",
        "e2L.write_to_latex(projet_name,filename,bird_list,col,condition_tableau, condition_rare, family, format, spacing, info)"
      ],
      "metadata": {
        "id": "6JABd8X1-b5q"
      },
      "execution_count": 11,
      "outputs": []
    },
    {
      "cell_type": "markdown",
      "source": [
        "## 7. Running $\\LaTeX$\n",
        "Doing the magic 🤩"
      ],
      "metadata": {
        "id": "dT-EHBgZ-3uJ"
      }
    },
    {
      "cell_type": "code",
      "source": [
        "%%bash\n",
        "apt install texlive\n",
        "apt install xzdec\n",
        "tlmgr init-usertree\n",
        "tlmgr option repository ftp://tug.org/historic/systems/texlive/2017/tlnet-final\n",
        "tlmgr install xtab\n",
        "tlmgr install ulem"
      ],
      "metadata": {
        "colab": {
          "base_uri": "https://localhost:8080/"
        },
        "id": "xLP-eg5dG_2N",
        "outputId": "2e85ba6b-b053-439d-d366-e93028de2929"
      },
      "execution_count": 16,
      "outputs": [
        {
          "output_type": "stream",
          "name": "stdout",
          "text": [
            "Reading package lists...\n",
            "Building dependency tree...\n",
            "Reading state information...\n",
            "texlive is already the newest version (2017.20180305-1).\n",
            "0 upgraded, 0 newly installed, 0 to remove and 37 not upgraded.\n",
            "Reading package lists...\n",
            "Building dependency tree...\n",
            "Reading state information...\n",
            "xzdec is already the newest version (5.2.2-1.3).\n",
            "0 upgraded, 0 newly installed, 0 to remove and 37 not upgraded.\n",
            "(running on Debian, switching to user mode!)\n",
            "(running on Debian, switching to user mode!)\n",
            "tlmgr: setting default package repository to ftp://tug.org/historic/systems/texlive/2017/tlnet-final\n",
            "(running on Debian, switching to user mode!)\n",
            "tlmgr: package repository ftp://tug.org/historic/systems/texlive/2017/tlnet-final (verified)\n",
            "[1/1, ??:??/??:??] install: xtab [5k]\n",
            "running mktexlsr ...\n",
            "done running mktexlsr.\n",
            "tlmgr: package log updated: /root/texmf/web2c/tlmgr.log\n",
            "(running on Debian, switching to user mode!)\n",
            "tlmgr: package repository ftp://tug.org/historic/systems/texlive/2017/tlnet-final (verified)\n",
            "[1/1, ??:??/??:??] install: ulem [10k]\n",
            "running mktexlsr ...\n",
            "done running mktexlsr.\n",
            "tlmgr: package log updated: /root/texmf/web2c/tlmgr.log\n"
          ]
        },
        {
          "output_type": "stream",
          "name": "stderr",
          "text": [
            "\n",
            "WARNING: apt does not have a stable CLI interface. Use with caution in scripts.\n",
            "\n",
            "\n",
            "WARNING: apt does not have a stable CLI interface. Use with caution in scripts.\n",
            "\n",
            "Cannot determine type of tlpdb from /root/texmf!\n",
            "TeX Live 2017 is frozen forever and will no\n",
            "longer be updated.  This happens in preparation for a new release.\n",
            "\n",
            "If you're interested in helping to pretest the new release (when\n",
            "pretests are available), please read http://tug.org/texlive/pretest.html.\n",
            "Otherwise, just wait, and the new release will be ready in due time.\n",
            "TeX Live 2017 is frozen forever and will no\n",
            "longer be updated.  This happens in preparation for a new release.\n",
            "\n",
            "If you're interested in helping to pretest the new release (when\n",
            "pretests are available), please read http://tug.org/texlive/pretest.html.\n",
            "Otherwise, just wait, and the new release will be ready in due time.\n"
          ]
        }
      ]
    },
    {
      "cell_type": "code",
      "source": [
        "!pdflatex -output-directory=./latex ./latex/Puerto_Rico.tex"
      ],
      "metadata": {
        "colab": {
          "base_uri": "https://localhost:8080/"
        },
        "id": "j-0TNlcj-7Hf",
        "outputId": "b63120b6-36bd-40f3-f420-580a5f3cccb6"
      },
      "execution_count": 17,
      "outputs": [
        {
          "output_type": "stream",
          "name": "stdout",
          "text": [
            "This is pdfTeX, Version 3.14159265-2.6-1.40.18 (TeX Live 2017/Debian) (preloaded format=pdflatex)\n",
            " restricted \\write18 enabled.\n",
            "entering extended mode\n",
            "(./latex/Puerto_Rico.tex\n",
            "LaTeX2e <2017-04-15>\n",
            "Babel <3.18> and hyphenation patterns for 3 language(s) loaded.\n",
            "(/usr/share/texlive/texmf-dist/tex/latex/base/article.cls\n",
            "Document Class: article 2014/09/29 v1.4h Standard LaTeX document class\n",
            "(/usr/share/texlive/texmf-dist/tex/latex/base/size10.clo))\n",
            "(/root/texmf/tex/latex/xtab/xtab.sty)\n",
            "(/usr/share/texlive/texmf-dist/tex/latex/amsfonts/amssymb.sty\n",
            "(/usr/share/texlive/texmf-dist/tex/latex/amsfonts/amsfonts.sty))\n",
            "(/usr/share/texlive/texmf-dist/tex/latex/tools/array.sty)\n",
            "(/usr/share/texlive/texmf-dist/tex/latex/geometry/geometry.sty\n",
            "(/usr/share/texlive/texmf-dist/tex/latex/graphics/keyval.sty)\n",
            "(/usr/share/texlive/texmf-dist/tex/generic/oberdiek/ifpdf.sty)\n",
            "(/usr/share/texlive/texmf-dist/tex/generic/oberdiek/ifvtex.sty)\n",
            "(/usr/share/texlive/texmf-dist/tex/generic/ifxetex/ifxetex.sty))\n",
            "(/usr/share/texlive/texmf-dist/tex/latex/base/fontenc.sty\n",
            "(/usr/share/texlive/texmf-dist/tex/latex/base/t1enc.def))\n",
            "(/usr/share/texlive/texmf-dist/tex/latex/base/inputenc.sty\n",
            "(/usr/share/texlive/texmf-dist/tex/latex/base/utf8.def\n",
            "(/usr/share/texlive/texmf-dist/tex/latex/base/t1enc.dfu)\n",
            "(/usr/share/texlive/texmf-dist/tex/latex/base/ot1enc.dfu)\n",
            "(/usr/share/texlive/texmf-dist/tex/latex/base/omsenc.dfu)))\n",
            "(/usr/share/texlive/texmf-dist/tex/latex/xcolor/xcolor.sty\n",
            "(/usr/share/texlive/texmf-dist/tex/latex/graphics-cfg/color.cfg)\n",
            "(/usr/share/texlive/texmf-dist/tex/latex/graphics-def/pdftex.def)\n",
            "(/usr/share/texlive/texmf-dist/tex/latex/colortbl/colortbl.sty))\n",
            "(/usr/share/texlive/texmf-dist/tex/latex/fp/fp.sty\n",
            "`Fixed Point Package', Version 0.8, April 2, 1995 (C) Michael Mehlich\n",
            "(/usr/share/texlive/texmf-dist/tex/latex/fp/defpattern.sty)\n",
            "(/usr/share/texlive/texmf-dist/tex/latex/fp/fp-basic.sty)\n",
            "(/usr/share/texlive/texmf-dist/tex/latex/fp/fp-addons.sty)\n",
            "(/usr/share/texlive/texmf-dist/tex/latex/fp/fp-snap.sty)\n",
            "(/usr/share/texlive/texmf-dist/tex/latex/fp/fp-exp.sty)\n",
            "(/usr/share/texlive/texmf-dist/tex/latex/fp/fp-trigo.sty)\n",
            "(/usr/share/texlive/texmf-dist/tex/latex/fp/fp-pas.sty)\n",
            "(/usr/share/texlive/texmf-dist/tex/latex/fp/fp-random.sty)\n",
            "(/usr/share/texlive/texmf-dist/tex/latex/fp/fp-eqn.sty)\n",
            "(/usr/share/texlive/texmf-dist/tex/latex/fp/fp-upn.sty)\n",
            "(/usr/share/texlive/texmf-dist/tex/latex/fp/fp-eval.sty))\n",
            "(/root/texmf/tex/generic/ulem/ulem.sty)\n",
            "(/usr/share/texlive/texmf-dist/tex/latex/hyperref/hyperref.sty\n",
            "(/usr/share/texlive/texmf-dist/tex/generic/oberdiek/hobsub-hyperref.sty\n",
            "(/usr/share/texlive/texmf-dist/tex/generic/oberdiek/hobsub-generic.sty))\n",
            "(/usr/share/texlive/texmf-dist/tex/latex/oberdiek/auxhook.sty)\n",
            "(/usr/share/texlive/texmf-dist/tex/latex/oberdiek/kvoptions.sty)\n",
            "(/usr/share/texlive/texmf-dist/tex/latex/hyperref/pd1enc.def)\n",
            "(/usr/share/texlive/texmf-dist/tex/latex/latexconfig/hyperref.cfg)\n",
            "(/usr/share/texlive/texmf-dist/tex/latex/url/url.sty))\n",
            "(/usr/share/texlive/texmf-dist/tex/latex/hyperref/hpdftex.def\n",
            "(/usr/share/texlive/texmf-dist/tex/latex/oberdiek/rerunfilecheck.sty))\n",
            "(/usr/share/texlive/texmf-dist/tex/latex/booktabs/booktabs.sty)\n",
            "No file Puerto_Rico.aux.\n",
            "\n",
            "LaTeX Font Warning: Font shape `T1/iwona/m/n' undefined\n",
            "(Font)              using `T1/cmr/m/n' instead on input line 41.\n",
            "\n",
            "*geometry* driver: auto-detecting\n",
            "*geometry* detected driver: pdftex\n",
            "(/usr/share/texlive/texmf-dist/tex/context/base/mkii/supp-pdf.mkii\n",
            "[Loading MPS to PDF converter (version 2006.09.02).]\n",
            ") (/usr/share/texlive/texmf-dist/tex/latex/hyperref/nameref.sty\n",
            "(/usr/share/texlive/texmf-dist/tex/generic/oberdiek/gettitlestring.sty))\n",
            "(/usr/share/texlive/texmf-dist/tex/latex/amsfonts/umsa.fd)\n",
            "(/usr/share/texlive/texmf-dist/tex/latex/amsfonts/umsb.fd)\n",
            "\n",
            "LaTeX Font Warning: Font shape `T1/iwona/m/sc' undefined\n",
            "(Font)              using `T1/iwona/m/n' instead on input line 61.\n",
            "\n",
            "\n",
            "LaTeX Font Warning: Font shape `T1/iwona/bx/n' undefined\n",
            "(Font)              using `T1/iwona/m/n' instead on input line 93.\n",
            "\n",
            "[1{/var/lib/texmf/fonts/map/pdftex/updmap/pdftex.map}] [2] [3] [4]\n",
            "(./latex/Puerto_Rico.aux)\n",
            "\n",
            "LaTeX Font Warning: Some font shapes were not available, defaults substituted.\n",
            "\n",
            " )pdfTeX warning (dest): name{Hfootnote.1} has been referenced but does not exi\n",
            "st, replaced by a fixed one\n",
            "\n",
            "\n",
            "kpathsea: Running mktexpk --mfmode / --bdpi 600 --mag 1+0/600 --dpi 600 ecrm1440\n",
            "mktexpk: Running mf-nowin -progname=mf \\mode:=ljfour; mag:=1+0/600; nonstopmode; input ecrm1440\n",
            "This is METAFONT, Version 2.7182818 (TeX Live 2017/Debian) (preloaded base=mf)\n",
            "\n",
            "(/usr/share/texlive/texmf-dist/fonts/source/jknappen/ec/ecrm1440.mf\n",
            "(/usr/share/texlive/texmf-dist/fonts/source/jknappen/ec/exbase.mf)\n",
            "(/usr/share/texlive/texmf-dist/fonts/source/jknappen/ec/ecrm.mf\n",
            "(/usr/share/texlive/texmf-dist/fonts/source/jknappen/ec/exroman.mf\n",
            " Ok (/usr/share/texlive/texmf-dist/fonts/source/jknappen/ec/exaccess.mf\n",
            " Ok) (/usr/share/texlive/texmf-dist/fonts/source/jknappen/ec/expseudo.mf\n",
            " Ok) (/usr/share/texlive/texmf-dist/fonts/source/jknappen/ec/exruwest.mf\n",
            " Ok [192] [193] [194] [195] [196] [197] [198] [199] [200] [201] [202] [203]\n",
            "[204] [205] [206] [207] [208] [209] [210] [211] [212] [213] [214] [215]\n",
            "[216] [217] [218] [219] [220] [221] [222] [223])\n",
            "(/usr/share/texlive/texmf-dist/fonts/source/jknappen/ec/exrlwest.mf\n",
            " Ok [224] [225] [226] [227] [228] [229] [230] [231] [232] [233] [234] [235]\n",
            "[236] [237] [238] [239] [240] [241] [242] [243] [244] [245] [246] [247]\n",
            "[248] [249] [250] [251] [252] [253] [254] [255])\n",
            "(/usr/share/texlive/texmf-dist/fonts/source/jknappen/ec/exrueast.mf\n",
            " Ok [128] [129] [130] [131] [132] [133] [134] [135] [136] [137] [138] [139]\n",
            "[140] [141] [142] [143] [144] [145] [146] [147] [148] [149] [150] [151]\n",
            "[152] [153] [154] [155] [156] [157])\n",
            "(/usr/share/texlive/texmf-dist/fonts/source/jknappen/ec/exrleast.mf\n",
            " Ok [158] [160] [161] [162] [163] [164] [165] [166] [167] [168] [169] [170]\n",
            "[171] [172] [173] [174] [175] [176] [177] [178] [179] [180] [181] [182]\n",
            "[183] [184] [185] [186] [187] [188])\n",
            "(/usr/share/texlive/texmf-dist/fonts/source/jknappen/ec/exbraces.mf\n",
            " Ok [94] [126] [23] [40] [41] [60] [124] [62] [91] [93] [92] [123] [125]\n",
            "[95] [127] [32])\n",
            "(/usr/share/texlive/texmf-dist/fonts/source/jknappen/ec/expunct.mf\n",
            " Ok [14] [15] [19] [20] [13] [18] [33] [39] [42] [43] [44] [46] [47] [58]\n",
            "[59] [61] [96] [189] [17] [45] [16] [21] [22])\n",
            "(/usr/share/texlive/texmf-dist/fonts/source/jknappen/ec/exaccent.mf\n",
            " Ok [0] [1] [2] [3] [4] [5] [6] [7] [8] [9] [10] [11] [12])\n",
            "(/usr/share/texlive/texmf-dist/fonts/source/jknappen/ec/exsign.mf\n",
            " Ok [24] [34] [35] [36] [37] [64] [191] [159])\n",
            "(/usr/share/texlive/texmf-dist/fonts/source/jknappen/ec/exrlig.mf\n",
            " Ok [25] [26] [28] [27] [29] [30] [31])\n",
            "(/usr/share/texlive/texmf-dist/fonts/source/jknappen/ec/exromp.mf\n",
            " Ok [38] [63] [190])\n",
            "(/usr/share/texlive/texmf-dist/fonts/source/jknappen/ec/exrulett.mf\n",
            " Ok [65] [66] [67] [68] [69] [70] [71] [72] [73] [74] [75] [76] [77] [78]\n",
            "[79] [80] [81] [82] [83] [84] [85] [86] [87] [88] [89] [90])\n",
            "(/usr/share/texlive/texmf-dist/fonts/source/jknappen/ec/exrllett.mf\n",
            " Ok [97] [98] [99] [100] [101] [102] [103] [104] [105] [106] [107] [108]\n",
            "[109] [110] [111] [112] [113] [114] [115] [116] [117] [118] [119] [120]\n",
            "[121] [122])\n",
            "(/usr/share/texlive/texmf-dist/fonts/source/jknappen/ec/exrdigit.mf\n",
            " Ok [48] [49] [50] [51] [52] [53] [54] [55] [56] [57])\n",
            "(/usr/share/texlive/texmf-dist/fonts/source/jknappen/ec/exrligtb.mf\n",
            " Ok) ) ) )\n",
            "(some charht values had to be adjusted by as much as 0.08084pt)\n",
            "Font metrics written on ecrm1440.tfm.\n",
            "Output written on ecrm1440.600gf (256 characters, 71064 bytes).\n",
            "Transcript written on ecrm1440.log.\n",
            "mktexpk: /root/.texlive2017/texmf-var/fonts/pk/ljfour/jknappen/ec/ecrm1440.600pk: successfully generated.\n",
            " </root/.texlive2017/texmf-var/fonts/pk/ljfour/jknappen/ec/ecrm1440.600pk>\n",
            "kpathsea: Running mktexpk --mfmode / --bdpi 600 --mag 1+0/600 --dpi 600 ecrm1000\n",
            "mktexpk: Running mf-nowin -progname=mf \\mode:=ljfour; mag:=1+0/600; nonstopmode; input ecrm1000\n",
            "This is METAFONT, Version 2.7182818 (TeX Live 2017/Debian) (preloaded base=mf)\n",
            "\n",
            "(/usr/share/texlive/texmf-dist/fonts/source/jknappen/ec/ecrm1000.mf\n",
            "(/usr/share/texlive/texmf-dist/fonts/source/jknappen/ec/exbase.mf)\n",
            "(/usr/share/texlive/texmf-dist/fonts/source/jknappen/ec/ecrm.mf\n",
            "(/usr/share/texlive/texmf-dist/fonts/source/jknappen/ec/exroman.mf\n",
            " Ok (/usr/share/texlive/texmf-dist/fonts/source/jknappen/ec/exaccess.mf\n",
            " Ok) (/usr/share/texlive/texmf-dist/fonts/source/jknappen/ec/expseudo.mf\n",
            " Ok) (/usr/share/texlive/texmf-dist/fonts/source/jknappen/ec/exruwest.mf\n",
            " Ok [192] [193] [194] [195] [196] [197] [198] [199] [200] [201] [202] [203]\n",
            "[204] [205] [206] [207] [208] [209] [210] [211] [212] [213] [214] [215]\n",
            "[216] [217] [218] [219] [220] [221] [222] [223])\n",
            "(/usr/share/texlive/texmf-dist/fonts/source/jknappen/ec/exrlwest.mf\n",
            " Ok [224] [225] [226] [227] [228] [229] [230] [231] [232] [233] [234] [235]\n",
            "[236] [237] [238] [239] [240] [241] [242] [243] [244] [245] [246] [247]\n",
            "[248] [249] [250] [251] [252] [253] [254] [255])\n",
            "(/usr/share/texlive/texmf-dist/fonts/source/jknappen/ec/exrueast.mf\n",
            " Ok [128] [129] [130] [131] [132] [133] [134] [135] [136] [137] [138] [139]\n",
            "[140] [141] [142] [143] [144] [145] [146] [147] [148] [149] [150] [151]\n",
            "[152] [153] [154] [155] [156] [157])\n",
            "(/usr/share/texlive/texmf-dist/fonts/source/jknappen/ec/exrleast.mf\n",
            " Ok [158] [160] [161] [162] [163] [164] [165] [166] [167] [168] [169] [170]\n",
            "[171] [172] [173] [174] [175] [176] [177] [178] [179] [180] [181] [182]\n",
            "[183] [184] [185] [186] [187] [188])\n",
            "(/usr/share/texlive/texmf-dist/fonts/source/jknappen/ec/exbraces.mf\n",
            " Ok [94] [126] [23] [40] [41] [60] [124] [62] [91] [93] [92] [123] [125]\n",
            "[95] [127] [32])\n",
            "(/usr/share/texlive/texmf-dist/fonts/source/jknappen/ec/expunct.mf\n",
            " Ok [14] [15] [19] [20] [13] [18] [33] [39] [42] [43] [44] [46] [47] [58]\n",
            "[59] [61] [96] [189] [17] [45] [16] [21] [22])\n",
            "(/usr/share/texlive/texmf-dist/fonts/source/jknappen/ec/exaccent.mf\n",
            " Ok [0] [1] [2] [3] [4] [5] [6] [7] [8] [9] [10] [11] [12])\n",
            "(/usr/share/texlive/texmf-dist/fonts/source/jknappen/ec/exsign.mf\n",
            " Ok [24] [34] [35] [36] [37] [64] [191] [159])\n",
            "(/usr/share/texlive/texmf-dist/fonts/source/jknappen/ec/exrlig.mf\n",
            " Ok [25] [26] [28] [27] [29] [30] [31])\n",
            "(/usr/share/texlive/texmf-dist/fonts/source/jknappen/ec/exromp.mf\n",
            " Ok [38] [63] [190])\n",
            "(/usr/share/texlive/texmf-dist/fonts/source/jknappen/ec/exrulett.mf\n",
            " Ok [65] [66] [67] [68] [69] [70] [71] [72] [73] [74] [75] [76] [77] [78]\n",
            "[79] [80] [81] [82] [83] [84] [85] [86] [87] [88] [89] [90])\n",
            "(/usr/share/texlive/texmf-dist/fonts/source/jknappen/ec/exrllett.mf\n",
            " Ok [97] [98] [99] [100] [101] [102] [103] [104] [105] [106] [107] [108]\n",
            "[109] [110] [111] [112] [113] [114] [115] [116] [117] [118] [119] [120]\n",
            "[121] [122])\n",
            "(/usr/share/texlive/texmf-dist/fonts/source/jknappen/ec/exrdigit.mf\n",
            " Ok [48] [49] [50] [51] [52] [53] [54] [55] [56] [57])\n",
            "(/usr/share/texlive/texmf-dist/fonts/source/jknappen/ec/exrligtb.mf\n",
            " Ok) ) ) )\n",
            "(some charht values had to be adjusted by as much as 0.06586pt)\n",
            "Font metrics written on ecrm1000.tfm.\n",
            "Output written on ecrm1000.600gf (256 characters, 51184 bytes).\n",
            "Transcript written on ecrm1000.log.\n",
            "mktexpk: /root/.texlive2017/texmf-var/fonts/pk/ljfour/jknappen/ec/ecrm1000.600pk: successfully generated.\n",
            " </ro\n",
            "ot/.texlive2017/texmf-var/fonts/pk/ljfour/jknappen/ec/ecrm1000.600pk>\n",
            "kpathsea: Running mktexpk --mfmode / --bdpi 600 --mag 1+0/600 --dpi 600 ecrm0800\n",
            "mktexpk: Running mf-nowin -progname=mf \\mode:=ljfour; mag:=1+0/600; nonstopmode; input ecrm0800\n",
            "This is METAFONT, Version 2.7182818 (TeX Live 2017/Debian) (preloaded base=mf)\n",
            "\n",
            "(/usr/share/texlive/texmf-dist/fonts/source/jknappen/ec/ecrm0800.mf\n",
            "(/usr/share/texlive/texmf-dist/fonts/source/jknappen/ec/exbase.mf)\n",
            "(/usr/share/texlive/texmf-dist/fonts/source/jknappen/ec/ecrm.mf\n",
            "(/usr/share/texlive/texmf-dist/fonts/source/jknappen/ec/exroman.mf\n",
            " Ok (/usr/share/texlive/texmf-dist/fonts/source/jknappen/ec/exaccess.mf\n",
            " Ok) (/usr/share/texlive/texmf-dist/fonts/source/jknappen/ec/expseudo.mf\n",
            " Ok) (/usr/share/texlive/texmf-dist/fonts/source/jknappen/ec/exruwest.mf\n",
            " Ok [192] [193] [194] [195] [196] [197] [198] [199] [200] [201] [202] [203]\n",
            "[204] [205] [206] [207] [208] [209] [210] [211] [212] [213] [214] [215]\n",
            "[216] [217] [218] [219] [220] [221] [222] [223])\n",
            "(/usr/share/texlive/texmf-dist/fonts/source/jknappen/ec/exrlwest.mf\n",
            " Ok [224] [225] [226] [227] [228] [229] [230] [231] [232] [233] [234] [235]\n",
            "[236] [237] [238] [239] [240] [241] [242] [243] [244] [245] [246] [247]\n",
            "[248] [249] [250] [251] [252] [253] [254] [255])\n",
            "(/usr/share/texlive/texmf-dist/fonts/source/jknappen/ec/exrueast.mf\n",
            " Ok [128] [129] [130] [131] [132] [133] [134] [135] [136] [137] [138] [139]\n",
            "[140] [141] [142] [143] [144] [145] [146] [147] [148] [149] [150] [151]\n",
            "[152] [153] [154] [155] [156] [157])\n",
            "(/usr/share/texlive/texmf-dist/fonts/source/jknappen/ec/exrleast.mf\n",
            " Ok [158] [160] [161] [162] [163] [164] [165] [166] [167] [168] [169] [170]\n",
            "[171] [172] [173] [174] [175] [176] [177] [178] [179] [180] [181] [182]\n",
            "[183] [184] [185] [186] [187] [188])\n",
            "(/usr/share/texlive/texmf-dist/fonts/source/jknappen/ec/exbraces.mf\n",
            " Ok [94] [126] [23] [40] [41] [60] [124] [62] [91] [93] [92] [123] [125]\n",
            "[95] [127] [32])\n",
            "(/usr/share/texlive/texmf-dist/fonts/source/jknappen/ec/expunct.mf\n",
            " Ok [14] [15] [19] [20] [13] [18] [33] [39] [42] [43] [44] [46] [47] [58]\n",
            "[59] [61] [96] [189] [17] [45] [16] [21] [22])\n",
            "(/usr/share/texlive/texmf-dist/fonts/source/jknappen/ec/exaccent.mf\n",
            " Ok [0] [1] [2] [3] [4] [5] [6] [7] [8] [9] [10] [11] [12])\n",
            "(/usr/share/texlive/texmf-dist/fonts/source/jknappen/ec/exsign.mf\n",
            " Ok [24] [34] [35] [36] [37] [64] [191] [159])\n",
            "(/usr/share/texlive/texmf-dist/fonts/source/jknappen/ec/exrlig.mf\n",
            " Ok [25] [26] [28] [27] [29] [30] [31])\n",
            "(/usr/share/texlive/texmf-dist/fonts/source/jknappen/ec/exromp.mf\n",
            " Ok [38] [63] [190])\n",
            "(/usr/share/texlive/texmf-dist/fonts/source/jknappen/ec/exrulett.mf\n",
            " Ok [65] [66] [67] [68] [69] [70] [71] [72] [73] [74] [75] [76] [77] [78]\n",
            "[79] [80] [81] [82] [83] [84] [85] [86] [87] [88] [89] [90])\n",
            "(/usr/share/texlive/texmf-dist/fonts/source/jknappen/ec/exrllett.mf\n",
            " Ok [97] [98] [99] [100] [101] [102] [103] [104] [105] [106] [107] [108]\n",
            "[109] [110] [111] [112] [113] [114] [115] [116] [117] [118] [119] [120]\n",
            "[121] [122])\n",
            "(/usr/share/texlive/texmf-dist/fonts/source/jknappen/ec/exrdigit.mf\n",
            " Ok [48] [49] [50] [51] [52] [53] [54] [55] [56] [57])\n",
            "(/usr/share/texlive/texmf-dist/fonts/source/jknappen/ec/exrligtb.mf\n",
            " Ok) ) ) )\n",
            "(some charht values had to be adjusted by as much as 0.06445pt)\n",
            "Font metrics written on ecrm0800.tfm.\n",
            "Output written on ecrm0800.600gf (256 characters, 41732 bytes).\n",
            "Transcript written on ecrm0800.log.\n",
            "mktexpk: /root/.texlive2017/texmf-var/fonts/pk/ljfour/jknappen/ec/ecrm0800.600pk: successfully generated.\n",
            " </root/.t\n",
            "exlive2017/texmf-var/fonts/pk/ljfour/jknappen/ec/ecrm0800.600pk>\n",
            "kpathsea: Running mktexpk --mfmode / --bdpi 600 --mag 1+0/600 --dpi 600 ecrm1200\n",
            "mktexpk: Running mf-nowin -progname=mf \\mode:=ljfour; mag:=1+0/600; nonstopmode; input ecrm1200\n",
            "This is METAFONT, Version 2.7182818 (TeX Live 2017/Debian) (preloaded base=mf)\n",
            "\n",
            "(/usr/share/texlive/texmf-dist/fonts/source/jknappen/ec/ecrm1200.mf\n",
            "(/usr/share/texlive/texmf-dist/fonts/source/jknappen/ec/exbase.mf)\n",
            "(/usr/share/texlive/texmf-dist/fonts/source/jknappen/ec/ecrm.mf\n",
            "(/usr/share/texlive/texmf-dist/fonts/source/jknappen/ec/exroman.mf\n",
            " Ok (/usr/share/texlive/texmf-dist/fonts/source/jknappen/ec/exaccess.mf\n",
            " Ok) (/usr/share/texlive/texmf-dist/fonts/source/jknappen/ec/expseudo.mf\n",
            " Ok) (/usr/share/texlive/texmf-dist/fonts/source/jknappen/ec/exruwest.mf\n",
            " Ok [192] [193] [194] [195] [196] [197] [198] [199] [200] [201] [202] [203]\n",
            "[204] [205] [206] [207] [208] [209] [210] [211] [212] [213] [214] [215]\n",
            "[216] [217] [218] [219] [220] [221] [222] [223])\n",
            "(/usr/share/texlive/texmf-dist/fonts/source/jknappen/ec/exrlwest.mf\n",
            " Ok [224] [225] [226] [227] [228] [229] [230] [231] [232] [233] [234] [235]\n",
            "[236] [237] [238] [239] [240] [241] [242] [243] [244] [245] [246] [247]\n",
            "[248] [249] [250] [251] [252] [253] [254] [255])\n",
            "(/usr/share/texlive/texmf-dist/fonts/source/jknappen/ec/exrueast.mf\n",
            " Ok [128] [129] [130] [131] [132] [133] [134] [135] [136] [137] [138] [139]\n",
            "[140] [141] [142] [143] [144] [145] [146] [147] [148] [149] [150] [151]\n",
            "[152] [153] [154] [155] [156] [157])\n",
            "(/usr/share/texlive/texmf-dist/fonts/source/jknappen/ec/exrleast.mf\n",
            " Ok [158] [160] [161] [162] [163] [164] [165] [166] [167] [168] [169] [170]\n",
            "[171] [172] [173] [174] [175] [176] [177] [178] [179] [180] [181] [182]\n",
            "[183] [184] [185] [186] [187] [188])\n",
            "(/usr/share/texlive/texmf-dist/fonts/source/jknappen/ec/exbraces.mf\n",
            " Ok [94] [126] [23] [40] [41] [60] [124] [62] [91] [93] [92] [123] [125]\n",
            "[95] [127] [32])\n",
            "(/usr/share/texlive/texmf-dist/fonts/source/jknappen/ec/expunct.mf\n",
            " Ok [14] [15] [19] [20] [13] [18] [33] [39] [42] [43] [44] [46] [47] [58]\n",
            "[59] [61] [96] [189] [17] [45] [16] [21] [22])\n",
            "(/usr/share/texlive/texmf-dist/fonts/source/jknappen/ec/exaccent.mf\n",
            " Ok [0] [1] [2] [3] [4] [5] [6] [7] [8] [9] [10] [11] [12])\n",
            "(/usr/share/texlive/texmf-dist/fonts/source/jknappen/ec/exsign.mf\n",
            " Ok [24] [34] [35] [36] [37] [64] [191] [159])\n",
            "(/usr/share/texlive/texmf-dist/fonts/source/jknappen/ec/exrlig.mf\n",
            " Ok [25] [26] [28] [27] [29] [30] [31])\n",
            "(/usr/share/texlive/texmf-dist/fonts/source/jknappen/ec/exromp.mf\n",
            " Ok [38] [63] [190])\n",
            "(/usr/share/texlive/texmf-dist/fonts/source/jknappen/ec/exrulett.mf\n",
            " Ok [65] [66] [67] [68] [69] [70] [71] [72] [73] [74] [75] [76] [77] [78]\n",
            "[79] [80] [81] [82] [83] [84] [85] [86] [87] [88] [89] [90])\n",
            "(/usr/share/texlive/texmf-dist/fonts/source/jknappen/ec/exrllett.mf\n",
            " Ok [97] [98] [99] [100] [101] [102] [103] [104] [105] [106] [107] [108]\n",
            "[109] [110] [111] [112] [113] [114] [115] [116] [117] [118] [119] [120]\n",
            "[121] [122])\n",
            "(/usr/share/texlive/texmf-dist/fonts/source/jknappen/ec/exrdigit.mf\n",
            " Ok [48] [49] [50] [51] [52] [53] [54] [55] [56] [57])\n",
            "(/usr/share/texlive/texmf-dist/fonts/source/jknappen/ec/exrligtb.mf\n",
            " Ok) ) ) )\n",
            "(some charht values had to be adjusted by as much as 0.07143pt)\n",
            "Font metrics written on ecrm1200.tfm.\n",
            "Output written on ecrm1200.600gf (256 characters, 60320 bytes).\n",
            "Transcript written on ecrm1200.log.\n",
            "mktexpk: /root/.texlive2017/texmf-var/fonts/pk/ljfour/jknappen/ec/ecrm1200.600pk: successfully generated.\n",
            " </root/.texliv\n",
            "e2017/texmf-var/fonts/pk/ljfour/jknappen/ec/ecrm1200.600pk>\n",
            "kpathsea: Running mktexpk --mfmode / --bdpi 600 --mag 1+0/600 --dpi 600 ecrm1728\n",
            "mktexpk: Running mf-nowin -progname=mf \\mode:=ljfour; mag:=1+0/600; nonstopmode; input ecrm1728\n",
            "This is METAFONT, Version 2.7182818 (TeX Live 2017/Debian) (preloaded base=mf)\n",
            "\n",
            "(/usr/share/texlive/texmf-dist/fonts/source/jknappen/ec/ecrm1728.mf\n",
            "(/usr/share/texlive/texmf-dist/fonts/source/jknappen/ec/exbase.mf)\n",
            "(/usr/share/texlive/texmf-dist/fonts/source/jknappen/ec/ecrm.mf\n",
            "(/usr/share/texlive/texmf-dist/fonts/source/jknappen/ec/exroman.mf\n",
            " Ok (/usr/share/texlive/texmf-dist/fonts/source/jknappen/ec/exaccess.mf\n",
            " Ok) (/usr/share/texlive/texmf-dist/fonts/source/jknappen/ec/expseudo.mf\n",
            " Ok) (/usr/share/texlive/texmf-dist/fonts/source/jknappen/ec/exruwest.mf\n",
            " Ok [192] [193] [194] [195] [196] [197] [198] [199] [200] [201] [202] [203]\n",
            "[204] [205] [206] [207] [208] [209] [210] [211] [212] [213] [214] [215]\n",
            "[216] [217] [218] [219] [220] [221] [222] [223])\n",
            "(/usr/share/texlive/texmf-dist/fonts/source/jknappen/ec/exrlwest.mf\n",
            " Ok [224] [225] [226] [227] [228] [229] [230] [231] [232] [233] [234] [235]\n",
            "[236] [237] [238] [239] [240] [241] [242] [243] [244] [245] [246] [247]\n",
            "[248] [249] [250] [251] [252] [253] [254] [255])\n",
            "(/usr/share/texlive/texmf-dist/fonts/source/jknappen/ec/exrueast.mf\n",
            " Ok [128] [129] [130] [131] [132] [133] [134] [135] [136] [137] [138] [139]\n",
            "[140] [141] [142] [143] [144] [145] [146] [147] [148] [149] [150] [151]\n",
            "[152] [153] [154] [155] [156] [157])\n",
            "(/usr/share/texlive/texmf-dist/fonts/source/jknappen/ec/exrleast.mf\n",
            " Ok [158] [160] [161] [162] [163] [164] [165] [166] [167] [168] [169] [170]\n",
            "[171] [172] [173] [174] [175] [176] [177] [178] [179] [180] [181] [182]\n",
            "[183] [184] [185] [186] [187] [188])\n",
            "(/usr/share/texlive/texmf-dist/fonts/source/jknappen/ec/exbraces.mf\n",
            " Ok [94] [126] [23] [40] [41] [60] [124] [62] [91] [93] [92] [123] [125]\n",
            "[95] [127] [32])\n",
            "(/usr/share/texlive/texmf-dist/fonts/source/jknappen/ec/expunct.mf\n",
            " Ok [14] [15] [19] [20] [13] [18] [33] [39] [42] [43] [44] [46] [47] [58]\n",
            "[59] [61] [96] [189] [17] [45] [16] [21] [22])\n",
            "(/usr/share/texlive/texmf-dist/fonts/source/jknappen/ec/exaccent.mf\n",
            " Ok [0] [1] [2] [3] [4] [5] [6] [7] [8] [9] [10] [11] [12])\n",
            "(/usr/share/texlive/texmf-dist/fonts/source/jknappen/ec/exsign.mf\n",
            " Ok [24] [34] [35] [36] [37] [64] [191] [159])\n",
            "(/usr/share/texlive/texmf-dist/fonts/source/jknappen/ec/exrlig.mf\n",
            " Ok [25] [26] [28] [27] [29] [30] [31])\n",
            "(/usr/share/texlive/texmf-dist/fonts/source/jknappen/ec/exromp.mf\n",
            " Ok [38] [63] [190])\n",
            "(/usr/share/texlive/texmf-dist/fonts/source/jknappen/ec/exrulett.mf\n",
            " Ok [65] [66] [67] [68] [69] [70] [71] [72] [73] [74] [75] [76] [77] [78]\n",
            "[79] [80] [81] [82] [83] [84] [85] [86] [87] [88] [89] [90])\n",
            "(/usr/share/texlive/texmf-dist/fonts/source/jknappen/ec/exrllett.mf\n",
            " Ok [97] [98] [99] [100] [101] [102] [103] [104] [105] [106] [107] [108]\n",
            "[109] [110] [111] [112] [113] [114] [115] [116] [117] [118] [119] [120]\n",
            "[121] [122])\n",
            "(/usr/share/texlive/texmf-dist/fonts/source/jknappen/ec/exrdigit.mf\n",
            " Ok [48] [49] [50] [51] [52] [53] [54] [55] [56] [57])\n",
            "(/usr/share/texlive/texmf-dist/fonts/source/jknappen/ec/exrligtb.mf\n",
            " Ok) ) ) )\n",
            "(some charht values had to be adjusted by as much as 0.0972pt)\n",
            "Font metrics written on ecrm1728.tfm.\n",
            "Output written on ecrm1728.600gf (256 characters, 84608 bytes).\n",
            "Transcript written on ecrm1728.log.\n",
            "mktexpk: /root/.texlive2017/texmf-var/fonts/pk/ljfour/jknappen/ec/ecrm1728.600pk: successfully generated.\n",
            " </root/.texlive2017\n",
            "/texmf-var/fonts/pk/ljfour/jknappen/ec/ecrm1728.600pk></usr/share/texlive/texmf\n",
            "-dist/fonts/type1/public/amsfonts/symbols/msam10.pfb>\n",
            "Output written on ./latex/Puerto_Rico.pdf (4 pages, 58733 bytes).\n",
            "Transcript written on ./latex/Puerto_Rico.log.\n"
          ]
        }
      ]
    }
  ]
}