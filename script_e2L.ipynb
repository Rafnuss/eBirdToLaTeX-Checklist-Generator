{
  "cells": [
    {
      "cell_type": "markdown",
      "metadata": {
        "colab_type": "text",
        "id": "view-in-github"
      },
      "source": [
        "<a href=\"https://colab.research.google.com/github/Zoziologie/ebird2latex/blob/master/script_e2L.ipynb\" target=\"_parent\"><img src=\"https://colab.research.google.com/assets/colab-badge.svg\" alt=\"Open In Colab\"/></a>"
      ]
    },
    {
      "cell_type": "markdown",
      "metadata": {
        "id": "IYXr7RGstX86"
      },
      "source": [
        "# Example of use of eBird2LaTeX python module\n",
        "In this example, we will see how to use the `e2L` package and produce a checklist pdf. This script is a good place to start learning about the package."
      ]
    },
    {
      "cell_type": "markdown",
      "metadata": {
        "id": "kn3O5ATUmia-"
      },
      "source": [
        "## 1. Setup\n",
        "First, let's import the dependancies as well as the `e2L` module [from the github repository](https://github.com/Zoziologie/ebird2latex)"
      ]
    },
    {
      "cell_type": "code",
      "execution_count": 1,
      "metadata": {
        "colab": {
          "base_uri": "https://localhost:8080/"
        },
        "id": "tzeseVgqmbpC",
        "outputId": "791ab79c-9564-46b5-c246-11da66f62616"
      },
      "outputs": [
        {
          "name": "stdout",
          "output_type": "stream",
          "text": [
            "zsh:1: command not found: wget\n",
            "\u001b[33mDEPRECATION: Configuring installation scheme with distutils config files is deprecated and will no longer work in the near future. If you are using a Homebrew or Linuxbrew Python, please see discussion at https://github.com/Homebrew/homebrew-core/issues/76621\u001b[0m\u001b[33m\n",
            "\u001b[0mRequirement already satisfied: cssselect in /usr/local/lib/python3.8/site-packages (1.1.0)\n",
            "\u001b[33mDEPRECATION: Configuring installation scheme with distutils config files is deprecated and will no longer work in the near future. If you are using a Homebrew or Linuxbrew Python, please see discussion at https://github.com/Homebrew/homebrew-core/issues/76621\u001b[0m\u001b[33m\n",
            "\u001b[0mmkdir: assets/: File exists\n",
            "zsh:1: command not found: wget\n"
          ]
        }
      ],
      "source": [
        "import os\n",
        "import json\n",
        "!wget --no-cache --backups=1 \"https://raw.githubusercontent.com/Zoziologie/ebird2latex/master/e2L.py\"\n",
        "import e2L\n",
        "!pip install cssselect # not sure why this need to be installed manually\n",
        "import cssselect\n",
        "# Download the tex template\n",
        "!mkdir assets/\n",
        "!wget --no-cache --backups=1 \"https://raw.githubusercontent.com/Zoziologie/ebird2latex/master/assets/templateLaTeX.tex\" -P assets/ "
      ]
    },
    {
      "cell_type": "markdown",
      "metadata": {
        "id": "qwHW6BQpmrpw"
      },
      "source": [
        "Define your project name"
      ]
    },
    {
      "cell_type": "code",
      "execution_count": 3,
      "metadata": {
        "id": "2DtKSTE1mhvk"
      },
      "outputs": [],
      "source": [
        "projet_name = \"Florida\"\n",
        "filename = projet_name.replace(' ','_').replace(\"'\",'').replace('.','')"
      ]
    },
    {
      "cell_type": "markdown",
      "metadata": {
        "id": "UXOV60gfvSrB"
      },
      "source": [
        "## 2. Authentification\n",
        "To be able to download barchat data, you will need to use your eBird login. Mine are stored in a private file on google drive as json file:\n",
        "```{json}\n",
        "{\n",
        "    \"username\": \"your_ebird_username\",\n",
        "    \"password\": \"your_ebird_password\"\n",
        "}\n",
        "```"
      ]
    },
    {
      "cell_type": "code",
      "execution_count": 10,
      "metadata": {
        "colab": {
          "base_uri": "https://localhost:8080/"
        },
        "id": "a7kCkz5NvTNH",
        "outputId": "e53b36a4-dddb-4f9d-8701-b5053fb510f6"
      },
      "outputs": [
        {
          "name": "stdout",
          "output_type": "stream",
          "text": [
            "Drive already mounted at /content/drive; to attempt to forcibly remount, call drive.mount(\"/content/drive\", force_remount=True).\n"
          ]
        }
      ],
      "source": [
        "from google.colab import drive\n",
        "drive.mount('/content/drive')\n",
        "with open('/content/drive/MyDrive/auth.json') as f:\n",
        "  auth = json.load(f)"
      ]
    },
    {
      "cell_type": "markdown",
      "metadata": {
        "id": "_cWLzSsxop_1"
      },
      "source": [
        "You can also just type them manually for each session"
      ]
    },
    {
      "cell_type": "code",
      "execution_count": 11,
      "metadata": {
        "id": "odGfkxoDopqB"
      },
      "outputs": [],
      "source": [
        "%%script false\n",
        "auth = {\n",
        "    'username':'your_ebird_username', \n",
        "    'password':'your_ebird_password'\n",
        "    }"
      ]
    },
    {
      "cell_type": "markdown",
      "metadata": {
        "id": "AGKURAXBou92"
      },
      "source": [
        "This allows to load the filw and run [`e2L.auth`](https://github.com/Zoziologie/ebird2latex/blob/caabd2c2a06c9f882d80f637011f26835b792099/e2L.py#L63) to starts a [`requests`](https://docs.python-requests.org/en/latest/) session with your login and password and returns it to you. "
      ]
    },
    {
      "cell_type": "code",
      "execution_count": 12,
      "metadata": {
        "colab": {
          "base_uri": "https://localhost:8080/"
        },
        "id": "WFLdFp0rocZo",
        "outputId": "5b552095-07e3-45fd-be70-73a942b09cfa"
      },
      "outputs": [
        {
          "name": "stdout",
          "output_type": "stream",
          "text": [
            "request sessionID from login...\n",
            "...login succesfull\n"
          ]
        }
      ],
      "source": [
        "session = e2L.auth(auth['username'], auth['password'])"
      ]
    },
    {
      "cell_type": "markdown",
      "metadata": {
        "id": "5dsG9rW0m9pG"
      },
      "source": [
        "## 2. Create the bird list\n",
        "\n",
        "The checklist can be generated for any location with a valid locID code. This can be country, subregion1, subregion2 or specific hotspot. Check out [the old API for a complete list of regions and hotspot](https://confluence.cornell.edu/display/CLOISAPI/eBird-1.1-HotSpotsByRegion) or [the more brief but new API](https://documenter.getpostman.com/view/664302/S1ENwy59#f4f59f90-854e-4ba6-8207-323a8cf0bfe0).\n",
        "\n",
        "[`e2L.bird_creator`](https://github.com/Zoziologie/ebird2latex/blob/caabd2c2a06c9f882d80f637011f26835b792099/e2L.py#L85) do the following two steps:\n",
        "- First load the barchart data ([`load_barchart`](https://github.com/Zoziologie/ebird2latex/blob/caabd2c2a06c9f882d80f637011f26835b792099/e2L.py#L130))  from eBird using: `http://ebird.org/barchartData?r={code_loc}&bmo={bmonth}&emo={emonth}&byr={byear}&eyr={eyear}`. This includes the list of bird recorded at this location with its occurance per week.\n",
        "- Then load the taxonomy information ([`load_taxa`](https://github.com/Zoziologie/ebird2latex/blob/caabd2c2a06c9f882d80f637011f26835b792099/e2L.py#L173)) from the [eBird API](https://documenter.getpostman.com/view/664302/S1ENwy59#952a4310-536d-4ad1-8f3e-77cfb624d1bc). You can choose [any available languages](https://support.ebird.org/en/support/solutions/articles/48000804865-bird-names-in-ebird) and [species category ](https://ebird.org/science/use-ebird-data/the-ebird-taxonomy)."
      ]
    },
    {
      "cell_type": "code",
      "execution_count": 13,
      "metadata": {
        "colab": {
          "base_uri": "https://localhost:8080/"
        },
        "id": "6OLHAcdwm7SF",
        "outputId": "319e7f3f-b165-4d33-b7d6-215ab28e6a03"
      },
      "outputs": [
        {
          "name": "stdout",
          "output_type": "stream",
          "text": [
            "Load barchart data from http://ebird.org/barchartData?r=US-FL&bmo=1&emo=12&byr=1900&eyr=2050&fmt=tsv\n",
            "Load taxonomy for EN\n"
          ]
        }
      ],
      "source": [
        "code_loc = 'US-FL'\n",
        "lang = ['EN'] \n",
        "cat = ['species'] # domestic,form,hybrid,intergrade,issf,slash,species,spuh\n",
        "byear = 1900\n",
        "eyear = 2050\n",
        "bmonth = 1\n",
        "emonth = 12\n",
        "info, bird_list = e2L.bird_creator(session, code_loc, lang, cat, byear, eyear, bmonth, emonth)"
      ]
    },
    {
      "cell_type": "markdown",
      "metadata": {
        "id": "yXW6U20e2oY2"
      },
      "source": [
        "## 3. Add Status\n",
        "**New.** You can now add a `status` to each species. For the moment, `status` can \n",
        "- an eBird target for a particular time (`year` or `life`) and place(e.g. `world`, `code_loc` or any other region). [To compute this](https://github.com/Zoziologie/ebird2latex/blob/7052c2db9781dbcfb3ef83881659d539495bf2d1/e2L.py#L210), we check that the species is absent from your list for that region/time (`https://ebird.org/lifelist/{target_loc}/?time={target_time}`).\n",
        "- `Endemic` or `introduced` according to [Avibase](https://avibase.bsc-eoc.org/). [To compute this](https://github.com/Zoziologie/ebird2latex/blob/7052c2db9781dbcfb3ef83881659d539495bf2d1/e2L.py#L240), we check the value on the avibase checklist for a particular region (`https://avibase.bsc-eoc.org/checklist.jsp?region={code_loc}&list=clements`). Note that this `code_loc` might be difference than eBird.\n",
        "\n",
        "The first input of the status functions is the label attributed to the species if the condition is true. This label will be needed later when displaying it. Thus, they need to be unique. "
      ]
    },
    {
      "cell_type": "code",
      "execution_count": 14,
      "metadata": {
        "colab": {
          "base_uri": "https://localhost:8080/"
        },
        "id": "EAisD07pndDc",
        "outputId": "14c6905f-8655-4137-c5ff-cbb530369f33"
      },
      "outputs": [
        {
          "name": "stdout",
          "output_type": "stream",
          "text": [
            "Load target data from https://ebird.org/lifelist/world/?time=life\n",
            "Load target data from https://ebird.org/lifelist/US/?time=life\n",
            "Load target data from https://ebird.org/lifelist/US-FL/?time=life\n",
            "Load endemic data from https://avibase.bsc-eoc.org/checklist.jsp?region=USfl&list=clements\n"
          ]
        }
      ],
      "source": [
        "target_time = \"life\"\n",
        "bird_list = e2L.statusInList('target-world',bird_list,session,\"world\",target_time)\n",
        "bird_list = e2L.statusInList('target-US',bird_list,session,\"US\",target_time)\n",
        "bird_list = e2L.statusInList('target-code_loc',bird_list,session,code_loc,target_time)\n",
        "bird_list = e2L.statusAvibase(['endemic-US','introduce-US'],bird_list, \"USfl\")"
      ]
    },
    {
      "cell_type": "markdown",
      "metadata": {
        "id": "Qe6rTIQq5Ech"
      },
      "source": [
        "## 4. Define column\n",
        "In this next step, we can define what to display in the checklist. This is performed by creating a list of `TableInput(type,option1,option1,option2,option3)` of the following possible `type`: \n",
        "- `lang`: display the name of the species in a particular language. `option1` can only be one of the language code requested when building the bird list. (latin is always possible (`LA`)). See below for `option2`.\n",
        "- `freq`: disply occurence frequence. `option1` can be 'year', 'season', 'month' or 'week'. `option2` is the index of `option1` to display (e.g, `month,0` is january, `season,1` is summer). `year` does not have an index.\n",
        "- `checkbox` display a checkbox. `option1` is the number of checkbox to display (default: 3).\n",
        "- `line` display empty lines (\"___\") . `option1` is the number of lines (default: 3) and `option2` their length with unit (default: '3ex').\n",
        "- `note` display note line (\"...\")length (eg. : 4cm).\n",
        "\n",
        "**New**. Using `status`, we can now highlight specific species in the checklist. This is done by addinng a  `statusTable` to `option2` to the type `lang`. `statusTable` is a list of lists of status criteria and style corresponding. The status criteria to apply should be the same value given when creating the status (first input of the status function). The style are currently:\n",
        "- `bold`, `italic`, `underline`\n",
        "- coloring the font with `color-{color_value}`, see [`xcolor`](https://steeven9.github.io/USI-LaTeX/html/packages_hyperref_babel_xcolor3.html) for the list of possible color\n",
        "- adding a symbol after the name. with `sym-{symbole_value}`. Any single character symbol should work.\n",
        "\n",
        "Note that the order of the column in `col`define the order in the checklist"
      ]
    },
    {
      "cell_type": "code",
      "execution_count": 15,
      "metadata": {
        "id": "bEgKcP8v5E0M"
      },
      "outputs": [],
      "source": [
        "col = []\n",
        "col.append(e2L.TableInput(info,'checkbox',1))\n",
        "# col.append(e2L.TableInput(info,'line',1,'8ex'))\n",
        "# col.append(e2L.TableInput(info,'note','3cm'))\n",
        "statusTable = [['endemic-US','bold'], ['introduce-US','color-violet'],['target-world','sym-*'],['target-US','sym-*']]\n",
        "col.append(e2L.TableInput(info,'lang','EN',statusTable))\n",
        "#col.append(e2L.TableInput(info,'lang','LA'))\n",
        "#col.append(e2L.TableInput(info,'freq','year'))\n",
        "#col.append(e2L.TableInput(info,'freq','season',0))\n",
        "col.append(e2L.TableInput(info,'freq','month',4))"
      ]
    },
    {
      "cell_type": "markdown",
      "metadata": {
        "id": "ua1ueVSX-bkm"
      },
      "source": [
        "## 5. Create the tex file\n",
        "When creating the $\\LaTeX$ document, you can add more formating option to the document (`format`) and change the spacing between row (`spacing`).\n",
        "\n",
        "You can also choose to display the family name or not `family`.\n",
        "\n",
        "You can filter the specie to show in the table as you want in `condition_tableau`. The first value is the text displayed and the second is the actual code evaluated for each `bird` from the bird list. \n",
        "Similarly, you can also display a short rare species list at the end of your checklist with `condition_rare`. To not display this rare table, simply set an impossible condition"
      ]
    },
    {
      "cell_type": "code",
      "execution_count": 16,
      "metadata": {
        "id": "6JABd8X1-b5q"
      },
      "outputs": [],
      "source": [
        "format='letterpaper,margin=.3in,twocolumn' #'a4paper,margin=15mm,twocolumn'\n",
        "spacing = '.95'\n",
        "family = True\n",
        "condition_tableau = ['Main table display only non-hybrid birds with occurence >0.1\\\\%.',\" ( bird['freq']['year'] >= 0.001)\"]\n",
        "# condition_rare = ['\\\\footnotesize{>.1\\\\%}',\" (bird['freq']['year'] < .01) and (bird['freq']['year'] > 0.001)\"]\n",
        "condition_rare = ['\\\\footnotesize{>.1\\\\%}',\" (bird['freq']['year'] < .00) and (bird['freq']['year'] > 0.001)\"]\n",
        "\n",
        "e2L.write_to_latex(projet_name,filename,bird_list,col,condition_tableau, condition_rare, family, format, spacing, info)"
      ]
    },
    {
      "cell_type": "markdown",
      "metadata": {
        "id": "dT-EHBgZ-3uJ"
      },
      "source": [
        "## 7. Running $\\LaTeX$\n",
        "Install basic tex."
      ]
    },
    {
      "cell_type": "code",
      "execution_count": 17,
      "metadata": {
        "colab": {
          "base_uri": "https://localhost:8080/"
        },
        "id": "xLP-eg5dG_2N",
        "outputId": "fe220661-65a9-47b3-f624-76965c185cfa"
      },
      "outputs": [
        {
          "name": "stdout",
          "output_type": "stream",
          "text": [
            "Reading package lists...\n",
            "Building dependency tree...\n",
            "Reading state information...\n",
            "The following additional packages will be installed:\n",
            "  fonts-droid-fallback fonts-lmodern fonts-noto-mono fonts-texgyre\n",
            "  libcupsfilters1 libcupsimage2 libgs9 libgs9-common libijs-0.35 libjbig2dec0\n",
            "  libkpathsea6 libpotrace0 libptexenc1 libsynctex1 libtexlua52 libtexluajit2\n",
            "  libzzip-0-13 lmodern poppler-data t1utils tex-common tex-gyre texlive-base\n",
            "  texlive-binaries texlive-fonts-recommended texlive-latex-base\n",
            "  texlive-latex-recommended tipa\n",
            "Suggested packages:\n",
            "  fonts-noto poppler-utils ghostscript fonts-japanese-mincho\n",
            "  | fonts-ipafont-mincho fonts-japanese-gothic | fonts-ipafont-gothic\n",
            "  fonts-arphic-ukai fonts-arphic-uming fonts-nanum debhelper gv\n",
            "  | postscript-viewer perl-tk xpdf-reader | pdf-viewer\n",
            "  texlive-fonts-recommended-doc texlive-latex-base-doc\n",
            "  texlive-latex-recommended-doc texlive-pstricks\n",
            "The following NEW packages will be installed:\n",
            "  fonts-droid-fallback fonts-lmodern fonts-noto-mono fonts-texgyre\n",
            "  libcupsfilters1 libcupsimage2 libgs9 libgs9-common libijs-0.35 libjbig2dec0\n",
            "  libkpathsea6 libpotrace0 libptexenc1 libsynctex1 libtexlua52 libtexluajit2\n",
            "  libzzip-0-13 lmodern poppler-data t1utils tex-common tex-gyre texlive\n",
            "  texlive-base texlive-binaries texlive-fonts-recommended texlive-latex-base\n",
            "  texlive-latex-recommended tipa\n",
            "0 upgraded, 29 newly installed, 0 to remove and 39 not upgraded.\n",
            "Need to get 90.4 MB of archives.\n",
            "After this operation, 286 MB of additional disk space will be used.\n",
            "Get:1 http://archive.ubuntu.com/ubuntu bionic/main amd64 fonts-droid-fallback all 1:6.0.1r16-1.1 [1,805 kB]\n",
            "Get:2 http://archive.ubuntu.com/ubuntu bionic/main amd64 poppler-data all 0.4.8-2 [1,479 kB]\n",
            "Get:3 http://archive.ubuntu.com/ubuntu bionic/main amd64 tex-common all 6.09 [33.0 kB]\n",
            "Get:4 http://archive.ubuntu.com/ubuntu bionic/main amd64 fonts-lmodern all 2.004.5-3 [4,551 kB]\n",
            "Get:5 http://archive.ubuntu.com/ubuntu bionic/main amd64 fonts-noto-mono all 20171026-2 [75.5 kB]\n",
            "Get:6 http://archive.ubuntu.com/ubuntu bionic/universe amd64 fonts-texgyre all 20160520-1 [8,761 kB]\n",
            "Get:7 http://archive.ubuntu.com/ubuntu bionic-updates/main amd64 libcupsfilters1 amd64 1.20.2-0ubuntu3.1 [108 kB]\n",
            "Get:8 http://archive.ubuntu.com/ubuntu bionic-updates/main amd64 libcupsimage2 amd64 2.2.7-1ubuntu2.8 [18.6 kB]\n",
            "Get:9 http://archive.ubuntu.com/ubuntu bionic/main amd64 libijs-0.35 amd64 0.35-13 [15.5 kB]\n",
            "Get:10 http://archive.ubuntu.com/ubuntu bionic/main amd64 libjbig2dec0 amd64 0.13-6 [55.9 kB]\n",
            "Get:11 http://archive.ubuntu.com/ubuntu bionic-updates/main amd64 libgs9-common all 9.26~dfsg+0-0ubuntu0.18.04.15 [5,092 kB]\n",
            "Get:12 http://archive.ubuntu.com/ubuntu bionic-updates/main amd64 libgs9 amd64 9.26~dfsg+0-0ubuntu0.18.04.15 [2,265 kB]\n",
            "Get:13 http://archive.ubuntu.com/ubuntu bionic-updates/main amd64 libkpathsea6 amd64 2017.20170613.44572-8ubuntu0.1 [54.9 kB]\n",
            "Get:14 http://archive.ubuntu.com/ubuntu bionic/main amd64 libpotrace0 amd64 1.14-2 [17.4 kB]\n",
            "Get:15 http://archive.ubuntu.com/ubuntu bionic-updates/main amd64 libptexenc1 amd64 2017.20170613.44572-8ubuntu0.1 [34.5 kB]\n",
            "Get:16 http://archive.ubuntu.com/ubuntu bionic-updates/main amd64 libsynctex1 amd64 2017.20170613.44572-8ubuntu0.1 [41.4 kB]\n",
            "Get:17 http://archive.ubuntu.com/ubuntu bionic-updates/main amd64 libtexlua52 amd64 2017.20170613.44572-8ubuntu0.1 [91.2 kB]\n",
            "Get:18 http://archive.ubuntu.com/ubuntu bionic-updates/main amd64 libtexluajit2 amd64 2017.20170613.44572-8ubuntu0.1 [230 kB]\n",
            "Get:19 http://archive.ubuntu.com/ubuntu bionic-updates/main amd64 libzzip-0-13 amd64 0.13.62-3.1ubuntu0.18.04.1 [26.0 kB]\n",
            "Get:20 http://archive.ubuntu.com/ubuntu bionic/main amd64 lmodern all 2.004.5-3 [9,631 kB]\n",
            "Get:21 http://archive.ubuntu.com/ubuntu bionic/main amd64 t1utils amd64 1.41-2 [56.0 kB]\n",
            "Get:22 http://archive.ubuntu.com/ubuntu bionic/universe amd64 tex-gyre all 20160520-1 [4,998 kB]\n",
            "Get:23 http://archive.ubuntu.com/ubuntu bionic-updates/main amd64 texlive-binaries amd64 2017.20170613.44572-8ubuntu0.1 [8,179 kB]\n",
            "Get:24 http://archive.ubuntu.com/ubuntu bionic/main amd64 texlive-base all 2017.20180305-1 [18.7 MB]\n",
            "Get:25 http://archive.ubuntu.com/ubuntu bionic/universe amd64 texlive-fonts-recommended all 2017.20180305-1 [5,262 kB]\n",
            "Get:26 http://archive.ubuntu.com/ubuntu bionic/main amd64 texlive-latex-base all 2017.20180305-1 [951 kB]\n",
            "Get:27 http://archive.ubuntu.com/ubuntu bionic/main amd64 texlive-latex-recommended all 2017.20180305-1 [14.9 MB]\n",
            "Get:28 http://archive.ubuntu.com/ubuntu bionic/universe amd64 texlive all 2017.20180305-1 [14.4 kB]\n",
            "Get:29 http://archive.ubuntu.com/ubuntu bionic/universe amd64 tipa all 2:1.3-20 [2,978 kB]\n",
            "Preconfiguring packages ...\n",
            "Fetched 90.4 MB in 2s (52.9 MB/s)\n",
            "Selecting previously unselected package fonts-droid-fallback.\r\n",
            "(Reading database ... \r(Reading database ... 5%\r(Reading database ... 10%\r(Reading database ... 15%\r(Reading database ... 20%\r(Reading database ... 25%\r(Reading database ... 30%\r(Reading database ... 35%\r(Reading database ... 40%\r(Reading database ... 45%\r(Reading database ... 50%\r(Reading database ... 55%\r(Reading database ... 60%\r(Reading database ... 65%\r(Reading database ... 70%\r(Reading database ... 75%\r(Reading database ... 80%\r(Reading database ... 85%\r(Reading database ... 90%\r(Reading database ... 95%\r(Reading database ... 100%\r(Reading database ... 156210 files and directories currently installed.)\r\n",
            "Preparing to unpack .../00-fonts-droid-fallback_1%3a6.0.1r16-1.1_all.deb ...\r\n",
            "Unpacking fonts-droid-fallback (1:6.0.1r16-1.1) ...\r\n",
            "Selecting previously unselected package poppler-data.\r\n",
            "Preparing to unpack .../01-poppler-data_0.4.8-2_all.deb ...\r\n",
            "Unpacking poppler-data (0.4.8-2) ...\r\n",
            "Selecting previously unselected package tex-common.\r\n",
            "Preparing to unpack .../02-tex-common_6.09_all.deb ...\r\n",
            "Unpacking tex-common (6.09) ...\r\n",
            "Selecting previously unselected package fonts-lmodern.\r\n",
            "Preparing to unpack .../03-fonts-lmodern_2.004.5-3_all.deb ...\r\n",
            "Unpacking fonts-lmodern (2.004.5-3) ...\r\n",
            "Selecting previously unselected package fonts-noto-mono.\r\n",
            "Preparing to unpack .../04-fonts-noto-mono_20171026-2_all.deb ...\r\n",
            "Unpacking fonts-noto-mono (20171026-2) ...\r\n",
            "Selecting previously unselected package fonts-texgyre.\r\n",
            "Preparing to unpack .../05-fonts-texgyre_20160520-1_all.deb ...\r\n",
            "Unpacking fonts-texgyre (20160520-1) ...\r\n",
            "Selecting previously unselected package libcupsfilters1:amd64.\r\n",
            "Preparing to unpack .../06-libcupsfilters1_1.20.2-0ubuntu3.1_amd64.deb ...\r\n",
            "Unpacking libcupsfilters1:amd64 (1.20.2-0ubuntu3.1) ...\r\n",
            "Selecting previously unselected package libcupsimage2:amd64.\r\n",
            "Preparing to unpack .../07-libcupsimage2_2.2.7-1ubuntu2.8_amd64.deb ...\r\n",
            "Unpacking libcupsimage2:amd64 (2.2.7-1ubuntu2.8) ...\r\n",
            "Selecting previously unselected package libijs-0.35:amd64.\r\n",
            "Preparing to unpack .../08-libijs-0.35_0.35-13_amd64.deb ...\r\n",
            "Unpacking libijs-0.35:amd64 (0.35-13) ...\r\n",
            "Selecting previously unselected package libjbig2dec0:amd64.\r\n",
            "Preparing to unpack .../09-libjbig2dec0_0.13-6_amd64.deb ...\r\n",
            "Unpacking libjbig2dec0:amd64 (0.13-6) ...\r\n",
            "Selecting previously unselected package libgs9-common.\r\n",
            "Preparing to unpack .../10-libgs9-common_9.26~dfsg+0-0ubuntu0.18.04.15_all.deb ...\r\n",
            "Unpacking libgs9-common (9.26~dfsg+0-0ubuntu0.18.04.15) ...\r\n",
            "Selecting previously unselected package libgs9:amd64.\r\n",
            "Preparing to unpack .../11-libgs9_9.26~dfsg+0-0ubuntu0.18.04.15_amd64.deb ...\r\n",
            "Unpacking libgs9:amd64 (9.26~dfsg+0-0ubuntu0.18.04.15) ...\r\n",
            "Selecting previously unselected package libkpathsea6:amd64.\r\n",
            "Preparing to unpack .../12-libkpathsea6_2017.20170613.44572-8ubuntu0.1_amd64.deb ...\r\n",
            "Unpacking libkpathsea6:amd64 (2017.20170613.44572-8ubuntu0.1) ...\r\n",
            "Selecting previously unselected package libpotrace0.\r\n",
            "Preparing to unpack .../13-libpotrace0_1.14-2_amd64.deb ...\r\n",
            "Unpacking libpotrace0 (1.14-2) ...\r\n",
            "Selecting previously unselected package libptexenc1:amd64.\r\n",
            "Preparing to unpack .../14-libptexenc1_2017.20170613.44572-8ubuntu0.1_amd64.deb ...\r\n",
            "Unpacking libptexenc1:amd64 (2017.20170613.44572-8ubuntu0.1) ...\r\n",
            "Selecting previously unselected package libsynctex1:amd64.\r\n",
            "Preparing to unpack .../15-libsynctex1_2017.20170613.44572-8ubuntu0.1_amd64.deb ...\r\n",
            "Unpacking libsynctex1:amd64 (2017.20170613.44572-8ubuntu0.1) ...\r\n",
            "Selecting previously unselected package libtexlua52:amd64.\r\n",
            "Preparing to unpack .../16-libtexlua52_2017.20170613.44572-8ubuntu0.1_amd64.deb ...\r\n",
            "Unpacking libtexlua52:amd64 (2017.20170613.44572-8ubuntu0.1) ...\r\n",
            "Selecting previously unselected package libtexluajit2:amd64.\r\n",
            "Preparing to unpack .../17-libtexluajit2_2017.20170613.44572-8ubuntu0.1_amd64.deb ...\r\n",
            "Unpacking libtexluajit2:amd64 (2017.20170613.44572-8ubuntu0.1) ...\r\n",
            "Selecting previously unselected package libzzip-0-13:amd64.\r\n",
            "Preparing to unpack .../18-libzzip-0-13_0.13.62-3.1ubuntu0.18.04.1_amd64.deb ...\r\n",
            "Unpacking libzzip-0-13:amd64 (0.13.62-3.1ubuntu0.18.04.1) ...\r\n",
            "Selecting previously unselected package lmodern.\r\n",
            "Preparing to unpack .../19-lmodern_2.004.5-3_all.deb ...\r\n",
            "Unpacking lmodern (2.004.5-3) ...\r\n",
            "Selecting previously unselected package t1utils.\r\n",
            "Preparing to unpack .../20-t1utils_1.41-2_amd64.deb ...\r\n",
            "Unpacking t1utils (1.41-2) ...\r\n",
            "Selecting previously unselected package tex-gyre.\r\n",
            "Preparing to unpack .../21-tex-gyre_20160520-1_all.deb ...\r\n",
            "Unpacking tex-gyre (20160520-1) ...\r\n",
            "Selecting previously unselected package texlive-binaries.\r\n",
            "Preparing to unpack .../22-texlive-binaries_2017.20170613.44572-8ubuntu0.1_amd64.deb ...\r\n",
            "Unpacking texlive-binaries (2017.20170613.44572-8ubuntu0.1) ...\r\n",
            "Selecting previously unselected package texlive-base.\r\n",
            "Preparing to unpack .../23-texlive-base_2017.20180305-1_all.deb ...\r\n",
            "Unpacking texlive-base (2017.20180305-1) ...\r\n",
            "Selecting previously unselected package texlive-fonts-recommended.\r\n",
            "Preparing to unpack .../24-texlive-fonts-recommended_2017.20180305-1_all.deb ...\r\n",
            "Unpacking texlive-fonts-recommended (2017.20180305-1) ...\r\n",
            "Selecting previously unselected package texlive-latex-base.\r\n",
            "Preparing to unpack .../25-texlive-latex-base_2017.20180305-1_all.deb ...\r\n",
            "Unpacking texlive-latex-base (2017.20180305-1) ...\r\n",
            "Selecting previously unselected package texlive-latex-recommended.\r\n",
            "Preparing to unpack .../26-texlive-latex-recommended_2017.20180305-1_all.deb ...\r\n",
            "Unpacking texlive-latex-recommended (2017.20180305-1) ...\r\n",
            "Selecting previously unselected package texlive.\r\n",
            "Preparing to unpack .../27-texlive_2017.20180305-1_all.deb ...\r\n",
            "Unpacking texlive (2017.20180305-1) ...\r\n",
            "Selecting previously unselected package tipa.\r\n",
            "Preparing to unpack .../28-tipa_2%3a1.3-20_all.deb ...\r\n",
            "Unpacking tipa (2:1.3-20) ...\r\n",
            "Setting up libgs9-common (9.26~dfsg+0-0ubuntu0.18.04.15) ...\r\n",
            "Setting up libkpathsea6:amd64 (2017.20170613.44572-8ubuntu0.1) ...\r\n",
            "Setting up libtexlua52:amd64 (2017.20170613.44572-8ubuntu0.1) ...\r\n",
            "Setting up fonts-droid-fallback (1:6.0.1r16-1.1) ...\r\n",
            "Setting up libsynctex1:amd64 (2017.20170613.44572-8ubuntu0.1) ...\r\n",
            "Setting up libptexenc1:amd64 (2017.20170613.44572-8ubuntu0.1) ...\r\n",
            "Setting up tex-common (6.09) ...\r\n",
            "update-language: texlive-base not installed and configured, doing nothing!\r\n",
            "Setting up poppler-data (0.4.8-2) ...\r\n",
            "Setting up tex-gyre (20160520-1) ...\r\n",
            "Setting up fonts-texgyre (20160520-1) ...\r\n",
            "Setting up fonts-noto-mono (20171026-2) ...\r\n",
            "Setting up libcupsfilters1:amd64 (1.20.2-0ubuntu3.1) ...\r\n",
            "Setting up libcupsimage2:amd64 (2.2.7-1ubuntu2.8) ...\r\n",
            "Setting up libjbig2dec0:amd64 (0.13-6) ...\r\n",
            "Setting up t1utils (1.41-2) ...\r\n",
            "Setting up libijs-0.35:amd64 (0.35-13) ...\r\n",
            "Setting up libpotrace0 (1.14-2) ...\r\n",
            "Setting up libzzip-0-13:amd64 (0.13.62-3.1ubuntu0.18.04.1) ...\r\n",
            "Setting up libgs9:amd64 (9.26~dfsg+0-0ubuntu0.18.04.15) ...\r\n",
            "Setting up libtexluajit2:amd64 (2017.20170613.44572-8ubuntu0.1) ...\r\n",
            "Setting up fonts-lmodern (2.004.5-3) ...\r\n",
            "Setting up texlive-binaries (2017.20170613.44572-8ubuntu0.1) ...\r\n",
            "update-alternatives: using /usr/bin/xdvi-xaw to provide /usr/bin/xdvi.bin (xdvi.bin) in auto mode\r\n",
            "update-alternatives: using /usr/bin/bibtex.original to provide /usr/bin/bibtex (bibtex) in auto mode\r\n",
            "Setting up texlive-base (2017.20180305-1) ...\r\n",
            "tl-paper: setting paper size for dvips to a4: /var/lib/texmf/dvips/config/config-paper.ps\r\n",
            "tl-paper: setting paper size for dvipdfmx to a4: /var/lib/texmf/dvipdfmx/dvipdfmx-paper.cfg\r\n",
            "tl-paper: setting paper size for xdvi to a4: /var/lib/texmf/xdvi/XDvi-paper\r\n",
            "tl-paper: setting paper size for pdftex to a4: /var/lib/texmf/tex/generic/config/pdftexconfig.tex\r\n",
            "Setting up texlive-fonts-recommended (2017.20180305-1) ...\r\n",
            "Setting up texlive-latex-base (2017.20180305-1) ...\r\n",
            "Setting up lmodern (2.004.5-3) ...\r\n",
            "Setting up texlive-latex-recommended (2017.20180305-1) ...\r\n",
            "Setting up tipa (2:1.3-20) ...\r\n",
            "Regenerating '/var/lib/texmf/fmtutil.cnf-DEBIAN'... done.\r\n",
            "Regenerating '/var/lib/texmf/fmtutil.cnf-TEXLIVEDIST'... done.\r\n",
            "update-fmtutil has updated the following file(s):\r\n",
            "\t/var/lib/texmf/fmtutil.cnf-DEBIAN\r\n",
            "\t/var/lib/texmf/fmtutil.cnf-TEXLIVEDIST\r\n",
            "If you want to activate the changes in the above file(s),\r\n",
            "you should run fmtutil-sys or fmtutil.\r\n",
            "Setting up texlive (2017.20180305-1) ...\r\n",
            "Processing triggers for mime-support (3.60ubuntu1) ...\r\n",
            "Processing triggers for libc-bin (2.27-3ubuntu1.3) ...\r\n",
            "/sbin/ldconfig.real: /usr/local/lib/python3.7/dist-packages/ideep4py/lib/libmkldnn.so.0 is not a symbolic link\r\n",
            "\r\n",
            "Processing triggers for man-db (2.8.3-2ubuntu0.1) ...\r\n",
            "Processing triggers for fontconfig (2.12.6-0ubuntu2) ...\r\n",
            "Processing triggers for tex-common (6.09) ...\r\n",
            "Running updmap-sys. This may take some time... done.\r\n",
            "Running mktexlsr /var/lib/texmf ... done.\r\n",
            "Building format(s) --all.\r\n",
            "\tThis may take some time... done.\r\n",
            "Reading package lists...\n",
            "Building dependency tree...\n",
            "Reading state information...\n",
            "The following NEW packages will be installed:\n",
            "  xzdec\n",
            "0 upgraded, 1 newly installed, 0 to remove and 39 not upgraded.\n",
            "Need to get 55.7 kB of archives.\n",
            "After this operation, 268 kB of additional disk space will be used.\n",
            "Get:1 http://archive.ubuntu.com/ubuntu bionic/universe amd64 xzdec amd64 5.2.2-1.3 [55.7 kB]\n",
            "Fetched 55.7 kB in 0s (135 kB/s)\n",
            "Selecting previously unselected package xzdec.\r\n",
            "(Reading database ... \r(Reading database ... 5%\r(Reading database ... 10%\r(Reading database ... 15%\r(Reading database ... 20%\r(Reading database ... 25%\r(Reading database ... 30%\r(Reading database ... 35%\r(Reading database ... 40%\r(Reading database ... 45%\r(Reading database ... 50%\r(Reading database ... 55%\r(Reading database ... 60%\r(Reading database ... 65%\r(Reading database ... 70%\r(Reading database ... 75%\r(Reading database ... 80%\r(Reading database ... 85%\r(Reading database ... 90%\r(Reading database ... 95%\r(Reading database ... 100%\r(Reading database ... 168534 files and directories currently installed.)\r\n",
            "Preparing to unpack .../xzdec_5.2.2-1.3_amd64.deb ...\r\n",
            "Unpacking xzdec (5.2.2-1.3) ...\r\n",
            "Setting up xzdec (5.2.2-1.3) ...\r\n",
            "Processing triggers for man-db (2.8.3-2ubuntu0.1) ...\r\n",
            "(running on Debian, switching to user mode!)\n",
            "(running on Debian, switching to user mode!)\n",
            "tlmgr: setting default package repository to ftp://tug.org/historic/systems/texlive/2017/tlnet-final\n",
            "(running on Debian, switching to user mode!)\n",
            "tlmgr: package repository ftp://tug.org/historic/systems/texlive/2017/tlnet-final (verified)\n",
            "[1/1, ??:??/??:??] install: xtab [5k]\n",
            "running mktexlsr ...\n",
            "done running mktexlsr.\n",
            "tlmgr: package log updated: /root/texmf/web2c/tlmgr.log\n",
            "(running on Debian, switching to user mode!)\n",
            "tlmgr: package repository ftp://tug.org/historic/systems/texlive/2017/tlnet-final (verified)\n",
            "[1/1, ??:??/??:??] install: ulem [10k]\n",
            "running mktexlsr ...\n",
            "done running mktexlsr.\n",
            "tlmgr: package log updated: /root/texmf/web2c/tlmgr.log\n"
          ]
        },
        {
          "name": "stderr",
          "output_type": "stream",
          "text": [
            "\n",
            "WARNING: apt does not have a stable CLI interface. Use with caution in scripts.\n",
            "\n",
            "\n",
            "WARNING: apt does not have a stable CLI interface. Use with caution in scripts.\n",
            "\n",
            "Cannot determine type of tlpdb from /root/texmf!\n",
            "TeX Live 2017 is frozen forever and will no\n",
            "longer be updated.  This happens in preparation for a new release.\n",
            "\n",
            "If you're interested in helping to pretest the new release (when\n",
            "pretests are available), please read http://tug.org/texlive/pretest.html.\n",
            "Otherwise, just wait, and the new release will be ready in due time.\n",
            "TeX Live 2017 is frozen forever and will no\n",
            "longer be updated.  This happens in preparation for a new release.\n",
            "\n",
            "If you're interested in helping to pretest the new release (when\n",
            "pretests are available), please read http://tug.org/texlive/pretest.html.\n",
            "Otherwise, just wait, and the new release will be ready in due time.\n"
          ]
        }
      ],
      "source": [
        "%%bash\n",
        "apt install texlive\n",
        "apt install xzdec\n",
        "tlmgr init-usertree\n",
        "tlmgr option repository ftp://tug.org/historic/systems/texlive/2017/tlnet-final\n",
        "tlmgr install xtab\n",
        "tlmgr install ulem"
      ]
    },
    {
      "cell_type": "markdown",
      "metadata": {
        "id": "kGTB0tfQqjGM"
      },
      "source": [
        "Doing the magic 🤩"
      ]
    },
    {
      "cell_type": "code",
      "execution_count": 44,
      "metadata": {
        "colab": {
          "base_uri": "https://localhost:8080/"
        },
        "id": "j-0TNlcj-7Hf",
        "outputId": "582e91db-498b-490a-b064-bad5d8ac2b6d"
      },
      "outputs": [
        {
          "name": "stdout",
          "output_type": "stream",
          "text": [
            "This is pdfTeX, Version 3.14159265-2.6-1.40.18 (TeX Live 2017/Debian) (preloaded format=pdflatex)\n",
            " restricted \\write18 enabled.\n",
            "entering extended mode\n",
            "(./latex/Florida.tex\n",
            "LaTeX2e <2017-04-15>\n",
            "Babel <3.18> and hyphenation patterns for 3 language(s) loaded.\n",
            "(/usr/share/texlive/texmf-dist/tex/latex/base/article.cls\n",
            "Document Class: article 2014/09/29 v1.4h Standard LaTeX document class\n",
            "(/usr/share/texlive/texmf-dist/tex/latex/base/size10.clo))\n",
            "(/root/texmf/tex/latex/xtab/xtab.sty)\n",
            "(/usr/share/texlive/texmf-dist/tex/latex/amsfonts/amssymb.sty\n",
            "(/usr/share/texlive/texmf-dist/tex/latex/amsfonts/amsfonts.sty))\n",
            "(/usr/share/texlive/texmf-dist/tex/latex/tools/array.sty)\n",
            "(/usr/share/texlive/texmf-dist/tex/latex/geometry/geometry.sty\n",
            "(/usr/share/texlive/texmf-dist/tex/latex/graphics/keyval.sty)\n",
            "(/usr/share/texlive/texmf-dist/tex/generic/oberdiek/ifpdf.sty)\n",
            "(/usr/share/texlive/texmf-dist/tex/generic/oberdiek/ifvtex.sty)\n",
            "(/usr/share/texlive/texmf-dist/tex/generic/ifxetex/ifxetex.sty))\n",
            "(/usr/share/texlive/texmf-dist/tex/latex/base/fontenc.sty\n",
            "(/usr/share/texlive/texmf-dist/tex/latex/base/t1enc.def))\n",
            "(/usr/share/texlive/texmf-dist/tex/latex/base/inputenc.sty\n",
            "(/usr/share/texlive/texmf-dist/tex/latex/base/utf8.def\n",
            "(/usr/share/texlive/texmf-dist/tex/latex/base/t1enc.dfu)\n",
            "(/usr/share/texlive/texmf-dist/tex/latex/base/ot1enc.dfu)\n",
            "(/usr/share/texlive/texmf-dist/tex/latex/base/omsenc.dfu)))\n",
            "(/usr/share/texlive/texmf-dist/tex/latex/xcolor/xcolor.sty\n",
            "(/usr/share/texlive/texmf-dist/tex/latex/graphics-cfg/color.cfg)\n",
            "(/usr/share/texlive/texmf-dist/tex/latex/graphics-def/pdftex.def)\n",
            "(/usr/share/texlive/texmf-dist/tex/latex/colortbl/colortbl.sty))\n",
            "(/usr/share/texlive/texmf-dist/tex/latex/fp/fp.sty\n",
            "`Fixed Point Package', Version 0.8, April 2, 1995 (C) Michael Mehlich\n",
            "(/usr/share/texlive/texmf-dist/tex/latex/fp/defpattern.sty)\n",
            "(/usr/share/texlive/texmf-dist/tex/latex/fp/fp-basic.sty)\n",
            "(/usr/share/texlive/texmf-dist/tex/latex/fp/fp-addons.sty)\n",
            "(/usr/share/texlive/texmf-dist/tex/latex/fp/fp-snap.sty)\n",
            "(/usr/share/texlive/texmf-dist/tex/latex/fp/fp-exp.sty)\n",
            "(/usr/share/texlive/texmf-dist/tex/latex/fp/fp-trigo.sty)\n",
            "(/usr/share/texlive/texmf-dist/tex/latex/fp/fp-pas.sty)\n",
            "(/usr/share/texlive/texmf-dist/tex/latex/fp/fp-random.sty)\n",
            "(/usr/share/texlive/texmf-dist/tex/latex/fp/fp-eqn.sty)\n",
            "(/usr/share/texlive/texmf-dist/tex/latex/fp/fp-upn.sty)\n",
            "(/usr/share/texlive/texmf-dist/tex/latex/fp/fp-eval.sty))\n",
            "(/root/texmf/tex/generic/ulem/ulem.sty)\n",
            "(/usr/share/texlive/texmf-dist/tex/latex/hyperref/hyperref.sty\n",
            "(/usr/share/texlive/texmf-dist/tex/generic/oberdiek/hobsub-hyperref.sty\n",
            "(/usr/share/texlive/texmf-dist/tex/generic/oberdiek/hobsub-generic.sty))\n",
            "(/usr/share/texlive/texmf-dist/tex/latex/oberdiek/auxhook.sty)\n",
            "(/usr/share/texlive/texmf-dist/tex/latex/oberdiek/kvoptions.sty)\n",
            "(/usr/share/texlive/texmf-dist/tex/latex/hyperref/pd1enc.def)\n",
            "(/usr/share/texlive/texmf-dist/tex/latex/latexconfig/hyperref.cfg)\n",
            "(/usr/share/texlive/texmf-dist/tex/latex/url/url.sty))\n",
            "(/usr/share/texlive/texmf-dist/tex/latex/hyperref/hpdftex.def\n",
            "(/usr/share/texlive/texmf-dist/tex/latex/oberdiek/rerunfilecheck.sty))\n",
            "(/usr/share/texlive/texmf-dist/tex/latex/booktabs/booktabs.sty)\n",
            "(./latex/Florida.aux)\n",
            "\n",
            "LaTeX Font Warning: Font shape `T1/iwona/m/n' undefined\n",
            "(Font)              using `T1/cmr/m/n' instead on input line 41.\n",
            "\n",
            "*geometry* driver: auto-detecting\n",
            "*geometry* detected driver: pdftex\n",
            "(/usr/share/texlive/texmf-dist/tex/context/base/mkii/supp-pdf.mkii\n",
            "[Loading MPS to PDF converter (version 2006.09.02).]\n",
            ") (/usr/share/texlive/texmf-dist/tex/latex/hyperref/nameref.sty\n",
            "(/usr/share/texlive/texmf-dist/tex/generic/oberdiek/gettitlestring.sty))\n",
            "(./latex/Florida.out) (./latex/Florida.out)\n",
            "(/usr/share/texlive/texmf-dist/tex/latex/amsfonts/umsa.fd)\n",
            "(/usr/share/texlive/texmf-dist/tex/latex/amsfonts/umsb.fd)\n",
            "\n",
            "LaTeX Font Warning: Font shape `T1/iwona/m/sc' undefined\n",
            "(Font)              using `T1/iwona/m/n' instead on input line 61.\n",
            "\n",
            "\n",
            "LaTeX Font Warning: Font shape `T1/iwona/bx/n' undefined\n",
            "(Font)              using `T1/iwona/m/n' instead on input line 62.\n",
            "\n",
            "[1{/var/lib/texmf/fonts/map/pdftex/updmap/pdftex.map}] [2] [3]\n",
            "(./latex/Florida.aux)\n",
            "\n",
            "LaTeX Font Warning: Some font shapes were not available, defaults substituted.\n",
            "\n",
            " )pdfTeX warning (dest): name{Hfootnote.1} has been referenced but does not exi\n",
            "st, replaced by a fixed one\n",
            "\n",
            " </root/.texlive2017/texmf-var/fonts/pk/ljfour/jknappen/ec/ecrm1000.600pk> </ro\n",
            "ot/.texlive2017/texmf-var/fonts/pk/ljfour/jknappen/ec/ecrm1200.600pk> </root/.t\n",
            "exlive2017/texmf-var/fonts/pk/ljfour/jknappen/ec/ecrm1728.600pk></usr/share/tex\n",
            "live/texmf-dist/fonts/type1/public/amsfonts/symbols/msam10.pfb>\n",
            "Output written on ./latex/Florida.pdf (3 pages, 44803 bytes).\n",
            "Transcript written on ./latex/Florida.log.\n"
          ]
        }
      ],
      "source": [
        "!pdflatex -output-directory=./latex ./latex/Florida.tex"
      ]
    }
  ],
  "metadata": {
    "colab": {
      "authorship_tag": "ABX9TyOOl4qnGboQJWsXrxbeZC5s",
      "collapsed_sections": [],
      "include_colab_link": true,
      "name": "script_e2L.ipynb",
      "provenance": []
    },
    "kernelspec": {
      "display_name": "Python 3.8.14 64-bit",
      "language": "python",
      "name": "python3"
    },
    "language_info": {
      "codemirror_mode": {
        "name": "ipython",
        "version": 3
      },
      "file_extension": ".py",
      "mimetype": "text/x-python",
      "name": "python",
      "nbconvert_exporter": "python",
      "pygments_lexer": "ipython3",
      "version": "3.8.14"
    },
    "vscode": {
      "interpreter": {
        "hash": "1ee38ef4a5a9feb55287fd749643f13d043cb0a7addaab2a9c224cbe137c0062"
      }
    }
  },
  "nbformat": 4,
  "nbformat_minor": 0
}
