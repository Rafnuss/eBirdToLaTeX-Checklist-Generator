{
 "metadata": {
  "name": "",
  "signature": "sha256:9bc1094f9deed0eddc9acb4815fd34c84f2b96c94fcf25ac112c90b046185d86"
 },
 "nbformat": 3,
 "nbformat_minor": 0,
 "worksheets": [
  {
   "cells": [
    {
     "cell_type": "code",
     "collapsed": false,
     "input": [
      "def Read_BarChart_file(filename)\n",
      "    f = open(filename, 'r')\n",
      "    Birdlist=[]\n",
      "    for line in f:\n",
      "        if line is \"\\n\":\n",
      "            pass\n",
      "        elif \"Frequency of observations in the selected location(s).:\"  in line:\n",
      "            #print(line)\n",
      "            # Don't know that it's is ???\n",
      "            pass\n",
      "        elif \"Number of taxa\" in line:\n",
      "            # Line with the number of taxa in the list\n",
      "            NbTaxa=int(line.replace(\"Number of taxa: \",\"\"))\n",
      "        elif \"Jan\t\t\t\tFeb\" in line:\n",
      "            pass\n",
      "        elif \"Sample Size\" in line:\n",
      "            SampleSize=[int(float(i)) for i in line.replace(\"Sample Size:\",\"\").split()]\n",
      "        else:\n",
      "            print(line)\n",
      "            line=line.replace('<em class=\"sci\">','')\n",
      "            line=line.replace('</em>','')\n",
      "            [BirdNameEN,line]=line.split(' (',1)\n",
      "            [BirdNameLA,line]=line.split(')',1)\n",
      "            BirdFreq=[float(i) for i in line.split()]\n",
      "            assert(BirdFreq==SampleSize,\"Number of bird frequency is not equal to Sample size\")\n",
      "            \n",
      "            Birdlist.append(Bird(BirdNameEN,BirdNameLA,BirdFreq))"
     ],
     "language": "python",
     "metadata": {},
     "outputs": [
      {
       "output_type": "stream",
       "stream": "stdout",
       "text": [
        "Taiga Bean-Goose (<em class=\"sci\">Anser fabalis</em>)\t0.0\t0.0\t0.014492753623188406\t0.0\t0.0\t0.013888888888888888\t0.0\t0.0\t0.0\t0.0\t0.0\t0.0\t0.0\t0.0\t0.0\t0.0\t0.0\t0.0\t0.0\t0.0\t0.0\t0.0\t0.0\t0.0\t0.0\t0.0\t0.0\t0.0\t0.0\t0.0\t0.0\t0.0\t0.0\t0.0\t0.0\t0.0\t0.0\t0.0\t0.0\t0.0\t0.0\t0.0\t0.0\t0.0\t0.0\t0.0\t0.0\t0.0\t\n",
        "\n",
        "Taiga Bean-Goose\n",
        "Anser fabalis\n",
        "[0.0, 0.0, 0.014492753623188406, 0.0, 0.0, 0.013888888888888888, 0.0, 0.0, 0.0, 0.0, 0.0, 0.0, 0.0, 0.0, 0.0, 0.0, 0.0, 0.0, 0.0, 0.0, 0.0, 0.0, 0.0, 0.0, 0.0, 0.0, 0.0, 0.0, 0.0, 0.0, 0.0, 0.0, 0.0, 0.0, 0.0, 0.0, 0.0, 0.0, 0.0, 0.0, 0.0, 0.0, 0.0, 0.0, 0.0, 0.0, 0.0, 0.0]\n",
        "48\n"
       ]
      }
     ],
     "prompt_number": 95
    },
    {
     "cell_type": "code",
     "collapsed": false,
     "input": [
      "class Bird():\n",
      "    def __init__(self,Name_EN,Name_LA,Freq):\n",
      "        self.Name_En=Name_EN\n",
      "        self.Name_La=Name_LA\n",
      "        self.Freq_week=Freq\n",
      "        self.__comput_freq()\n",
      "        \n",
      "    def __comput_freq(self):\n",
      "        t_m = []\n",
      "        self.Freq_month=[]\n",
      "        for i in range(0,len(self.Freq_week)):\n",
      "            t_m.append(self.Freq_week[i])\n",
      "            if i%4==3:\n",
      "                self.Freq_month.append(reduce(lambda x, y: x + y, t_m) / len(t_m))\n",
      "                t_m=[]\n",
      "            if i%\n",
      "        \n",
      "        self.Freq_month=[]\n",
      "        self.Freq_month.append()\n",
      "        \n",
      "        self.Freq_year =reduce(lambda x, y: x + y, self.Freq_week) / len(self.Freq_week)\n",
      "                \n",
      "            \n",
      "        \n",
      "        print reduce(lambda x, y: x + y, l) / len(l)\n",
      "    \n",
      "    def __str__(self):\n",
      "    \n",
      "    def addLang(self,lan1,lan2=None):\n",
      "        self.Name_Lan1 = \n",
      "        if lan2:\n",
      "            self.Name_Lan2 = \n",
      "    \n",
      "    "
     ],
     "language": "python",
     "metadata": {},
     "outputs": []
    },
    {
     "cell_type": "code",
     "collapsed": false,
     "input": [
      "\n",
      "i=[u for u in range(0,48)]\n",
      "\n",
      "print([u%4 for u in i])\n",
      "\n",
      "print(i[2]%4)\n",
      "\n",
      "\n",
      "#Read_BarChart_file(BarChart_ebird_Switzerland.txt)"
     ],
     "language": "python",
     "metadata": {},
     "outputs": [
      {
       "output_type": "stream",
       "stream": "stdout",
       "text": [
        "[0, 1, 2, 3, 0, 1, 2, 3, 0, 1, 2, 3, 0, 1, 2, 3, 0, 1, 2, 3, 0, 1, 2, 3, 0, 1, 2, 3, 0, 1, 2, 3, 0, 1, 2, 3, 0, 1, 2, 3, 0, 1, 2, 3, 0, 1, 2, 3]\n",
        "2\n"
       ]
      }
     ],
     "prompt_number": 113
    }
   ],
   "metadata": {}
  }
 ]
}